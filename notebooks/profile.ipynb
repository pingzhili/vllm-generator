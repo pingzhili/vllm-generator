{
 "cells": [
  {
   "cell_type": "code",
   "id": "initial_id",
   "metadata": {
    "collapsed": true,
    "ExecuteTime": {
     "end_time": "2025-07-30T12:41:56.658285Z",
     "start_time": "2025-07-30T12:41:56.237444Z"
    }
   },
   "source": [
    "from math_verify import parse, verify\n",
    "import re\n",
    "import pandas as pd"
   ],
   "outputs": [],
   "execution_count": 2
  },
  {
   "metadata": {
    "ExecuteTime": {
     "end_time": "2025-07-30T12:42:30.804592Z",
     "start_time": "2025-07-30T12:42:30.588321Z"
    }
   },
   "cell_type": "code",
   "source": "df = pd.read_parquet(\"../../open-math-reasoning/sample_c7_300_results_repeat_16.parquet\")",
   "id": "19ba17233c9a5803",
   "outputs": [],
   "execution_count": 3
  },
  {
   "metadata": {
    "ExecuteTime": {
     "end_time": "2025-07-30T12:51:10.354049Z",
     "start_time": "2025-07-30T12:51:10.344387Z"
    }
   },
   "cell_type": "code",
   "source": [
    "def extract_last_boxed_greedy(text):\n",
    "    if not text:\n",
    "        return None\n",
    "\n",
    "    positions = [m.start() for m in re.finditer(r'\\\\boxed\\{', text)]\n",
    "    if not positions:\n",
    "        return None\n",
    "\n",
    "    last_pos = positions[-1]\n",
    "    rest_of_text = text[last_pos:]\n",
    "    match = re.match(r'\\\\boxed\\{((?:[^{}]|\\{[^{}]*\\})*)\\}', rest_of_text)\n",
    "    if match:\n",
    "        return match.group(1)\n",
    "\n",
    "    return None"
   ],
   "id": "a46c2671ca34e9de",
   "outputs": [],
   "execution_count": 9
  },
  {
   "metadata": {
    "ExecuteTime": {
     "end_time": "2025-07-30T12:51:23.703772Z",
     "start_time": "2025-07-30T12:51:23.700419Z"
    }
   },
   "cell_type": "code",
   "source": "extract_last_boxed_greedy(df.response[0])",
   "id": "6142bc7cce9cad36",
   "outputs": [
    {
     "data": {
      "text/plain": [
       "'\\nF = \\\\mathbb{R} \\\\setminus \\\\left( \\\\bigcup_{i=1}^\\\\infty (q_i - 2^{-i} \\\\cdot \\\\epsilon, q_i + 2^{-i} \\\\cdot \\\\epsilon) \\\\right)\\n'"
      ]
     },
     "execution_count": 10,
     "metadata": {},
     "output_type": "execute_result"
    }
   ],
   "execution_count": 10
  },
  {
   "metadata": {
    "ExecuteTime": {
     "end_time": "2025-07-30T12:52:02.109423Z",
     "start_time": "2025-07-30T12:52:02.106688Z"
    }
   },
   "cell_type": "code",
   "source": "df.expected_answer[0]",
   "id": "18848778392afe5c",
   "outputs": [
    {
     "data": {
      "text/plain": [
       "'\\\\( F = \\\\mathbb{R} \\\\setminus \\\\bigcup U_n \\\\)'"
      ]
     },
     "execution_count": 15,
     "metadata": {},
     "output_type": "execute_result"
    }
   ],
   "execution_count": 15
  },
  {
   "metadata": {
    "ExecuteTime": {
     "end_time": "2025-07-30T12:52:33.642929Z",
     "start_time": "2025-07-30T12:52:33.599116Z"
    }
   },
   "cell_type": "code",
   "source": [
    "gold = parse(df.expected_answer[0])\n",
    "answer = parse(extract_last_boxed_greedy(df.response[0]))\n",
    "\n",
    "# Order here is important!\n",
    "verify(gold, answer)"
   ],
   "id": "2f67bd79dac25bf6",
   "outputs": [
    {
     "data": {
      "text/plain": [
       "False"
      ]
     },
     "execution_count": 16,
     "metadata": {},
     "output_type": "execute_result"
    }
   ],
   "execution_count": 16
  },
  {
   "metadata": {
    "ExecuteTime": {
     "end_time": "2025-07-30T13:04:54.052026Z",
     "start_time": "2025-07-30T13:04:40.261738Z"
    }
   },
   "cell_type": "code",
   "source": [
    "problem_to_pass_rate = {}\n",
    "for problem in df.problem.unique():\n",
    "    df_problem = df[df.problem == problem]\n",
    "    gold = parse(df_problem.expected_answer.tolist()[0])\n",
    "    num_pass = 0\n",
    "    num_total = 0\n",
    "    for response in df_problem.response:\n",
    "        num_total += 1\n",
    "        if verify(gold, parse(extract_last_boxed_greedy(response))):\n",
    "            num_pass += 1\n",
    "    problem_to_pass_rate[problem] = num_pass / num_total"
   ],
   "id": "b737e30a3b0c32a2",
   "outputs": [],
   "execution_count": 28
  },
  {
   "metadata": {
    "ExecuteTime": {
     "end_time": "2025-07-30T13:05:17.033694Z",
     "start_time": "2025-07-30T13:05:17.025497Z"
    }
   },
   "cell_type": "code",
   "source": "problem_to_pass_rate",
   "id": "3c01fac95731dbb9",
   "outputs": [
    {
     "data": {
      "text/plain": [
       "{'Given the characteristic function \\\\( f = \\\\chi_{\\\\mathbb{Q}} \\\\) (where \\\\( \\\\chi_{\\\\mathbb{Q}} \\\\) is the indicator function for the rational numbers), and given \\\\( \\\\epsilon > 0 \\\\), find a closed set \\\\( F \\\\subseteq \\\\mathbb{R} \\\\) such that \\\\( m(\\\\mathbb{R} - F) < \\\\epsilon \\\\) and \\\\( f \\\\) is continuous on \\\\( F \\\\).': 0.0,\n",
       " 'Calculate the determinant of the matrix \\\\(\\\\begin{pmatrix}0&1&2&3&...&n\\\\\\\\ 1&0&1&2&...&n-1\\\\\\\\ 2&1&0&1&...&n-2\\\\\\\\ 3&2&1&0&..&n-3\\\\\\\\ ...&...&...&...&...&...\\\\\\\\ n&n-1&n-2&n-3&...&0\\\\end{pmatrix}\\\\).': 0.0,\n",
       " 'What is the probability that three pieces of rope, obtained by making two random cuts on a rope, can form a triangle?': 1.0,\n",
       " 'Evaluate the limit: $\\\\lim_{n\\\\to\\\\infty}\\\\left(\\\\frac{1}{\\\\ln n} \\\\cdot \\\\sum_{1 \\\\le i < j \\\\le n} \\\\frac{1}{ij} - \\\\ln \\\\sqrt{n}\\\\right)$.': 0.0,\n",
       " 'Given the sequence of polynomials \\\\( L_k(x) \\\\) defined by \\\\( L_0(x) = 1 \\\\), \\\\( L_1(x) = 1 + x \\\\), and \\\\( L_k(x) = L_{k-1}(x) + xL_{k-2}(x) \\\\) for \\\\( k \\\\geq 2 \\\\), find an expression for \\\\( L_k(x) \\\\).': 0.0,\n",
       " 'Determine if the electric field \\\\( E \\\\) is differentiable at \\\\( r = r_0 \\\\), where the electric field is given by:\\n\\\\[ E = kr \\\\quad \\\\text{for} \\\\quad r \\\\leq r_0 \\\\]\\n\\\\[ E = \\\\frac{k r_0^2}{r} \\\\quad \\\\text{for} \\\\quad r > r_0 \\\\]': 0.0,\n",
       " 'Given \\\\( \\\\frac{dx}{dt} = \\\\frac{1}{t+1} \\\\) and \\\\( \\\\frac{dy}{dt} = 2t \\\\) for \\\\( t \\\\geq 0 \\\\), find the average rate of change of \\\\( y \\\\) with respect to \\\\( x \\\\) as \\\\( t \\\\) varies from 0 to 4.': 0.0,\n",
       " 'Find the radius of convergence of the series $\\\\sum \\\\frac{z^n}{\\\\sin(n \\\\pi \\\\sqrt{3})}$.': 0.875,\n",
       " 'Evaluate the limit \\\\(\\\\lim_{x \\\\to 0} \\\\left(\\\\frac{\\\\sin x}{x}\\\\right)^{\\\\frac{1}{x^2}}\\\\).': 0.0,\n",
       " 'Find the domain of the points $(p, q)$ such that the quartic polynomial $x^4 + (1-2q)x^2 + p^2 + q^2 - 1$ can be decomposed into the product of four linear expressions with real coefficients. Also, find the area of this domain.': 0.0,\n",
       " 'Evaluate the integral \\\\[ \\\\int_0^{+\\\\infty} \\\\frac{x^{\\\\varphi - 1} - x^{\\\\lambda - 1}}{(1 + x) \\\\ln x} \\\\, dx \\\\] where \\\\(0 < \\\\varphi < \\\\lambda < 1\\\\).': 0.0,\n",
       " 'Evaluate the integral \\\\(\\\\iiint\\\\limits_{V}(2x+y+z)\\\\,dxdydz\\\\) where \\\\(V=\\\\{(x,y,z)\\\\in \\\\mathbb{R}^3 \\\\mid x^2 + y^2 + z^2 + xy + yz + xz \\\\leq 8\\\\}\\\\).': 1.0,\n",
       " 'Compute the eigenvalues of a 4x4 matrix where all entries are ones.': 0.0,\n",
       " 'Let \\\\( A \\\\) be a diagonal matrix whose characteristic polynomial is \\n\\\\[ P(x) = (x-15)(x-14)^2(x-13)^3 \\\\cdots (x-2)^{14}(x-1)^{15}. \\\\]\\nLet \\\\( V \\\\) be the set of all \\\\( 120 \\\\times 120 \\\\) matrices that commute with \\\\( A \\\\). What is the dimension of \\\\( V \\\\)?': 1.0,\n",
       " 'Evaluate the integral \\\\(\\\\int \\\\frac{x^4+1}{x^6+1} \\\\, dx\\\\).': 0.0,\n",
       " 'Find the surface generated by the solutions of \\\\[ \\\\frac {dx}{yz} = \\\\frac {dy}{zx} = \\\\frac{dz}{xy}, \\\\] which intersects the circle $y^2+ z^2 = 1, x = 0.$': 0.0,\n",
       " 'Find a basis for the space of polynomials \\\\( p(x) \\\\) of degree less than or equal to 3.': 0.0,\n",
       " 'Find a basis for the intersection \\\\( A \\\\cap B \\\\) of the subspaces \\\\( A \\\\) and \\\\( B \\\\), which consists of matrices of the form \\\\(\\\\begin{pmatrix}\\n0 & 0 & 0\\\\\\\\\\nn & n & n\\\\\\\\\\n-n & n & n\\n\\\\end{pmatrix}\\\\) for any real number \\\\( n \\\\).': 0.0,\n",
       " \"Given that \\\\( y = f(x) \\\\) is continuous and differentiable on \\\\([4, 8]\\\\), \\\\( f(x) \\\\neq 0 \\\\) for all \\\\( x \\\\in [4, 8] \\\\), \\\\(\\\\int_4^8 \\\\dfrac{\\\\left[f'(x)\\\\right]^2}{\\\\left[f(x)\\\\right]^4} \\\\, dx = 1\\\\), \\\\( f(4) = \\\\dfrac{1}{4} \\\\), and \\\\( f(8) = \\\\dfrac{1}{2} \\\\), find \\\\( f(6) \\\\).\": 0.375,\n",
       " 'Evaluate the integral $$\\\\int_{0}^{1}\\\\left ( \\\\prod_{n=1}^{\\\\infty}\\\\sqrt[n]{e^{\\\\tanh^n(x)}} \\\\right )dx.$$': 0.0,\n",
       " 'Let \\\\( V \\\\) be a subspace of the vector space \\\\( \\\\mathbb{R}^{2 \\\\times 2} \\\\) of \\\\( 2 \\\\)-by-\\\\( 2 \\\\) real matrices. We call \\\\( V \\\\) nice if for any linearly independent \\\\( A, B \\\\in V \\\\), \\\\( AB \\\\neq BA \\\\). Find the maximum dimension of a nice subspace of \\\\( \\\\mathbb{R}^{2 \\\\times 2} \\\\).': 0.6875,\n",
       " 'Evaluate the integral \\\\(\\\\int_{0}^{a} \\\\frac{\\\\ln(x)}{x^2 + a^2} \\\\, dx\\\\) for \\\\(a > 0\\\\).': 0.0,\n",
       " 'Let the quadratic function \\\\( f(x) = x^2 - 4x + 3 \\\\). Find the greatest integer value of \\\\( m \\\\) such that the equation \\\\( f(f(f(x))) = m \\\\) has exactly 8 distinct real solutions.': 0.1875,\n",
       " 'Find \\\\( \\\\frac{d^2}{dx^2}\\\\int_{0}^{x}\\\\int_{1}^{\\\\sin{t}}\\\\sqrt{1+u^4}\\\\, du\\\\, dt \\\\).': 0.0,\n",
       " 'Identify the $\\\\mathbb{Q}$-automorphisms of the splitting field $\\\\mathbb{Q}[i]$ for the polynomial $p(x) = x^4 - 1$.': 0.0,\n",
       " \"Write down the Green's function for the domain \\\\(\\\\{(x,t): a \\\\le t < x \\\\le b\\\\}\\\\) given the boundary value problem \\\\((py')' + Vy = r\\\\) with boundary conditions \\\\(y(a) = 0\\\\) and \\\\(ky(b) + my'(b) = 0\\\\). The Green's function \\\\(G(x,t)\\\\) on the domain \\\\(\\\\{(x,t): a \\\\le x < t \\\\le b\\\\}\\\\) is given by \\\\(G(x,t) = -\\\\frac{u(x)v(t)}{p(x)W(u,v)(t)}\\\\), where \\\\(u(a) = 0\\\\) and \\\\(ku(b) + mu'(b) = 0\\\\).\": 0.0,\n",
       " 'Calculate the limit \\\\(\\\\lim_{n \\\\to +\\\\infty} \\\\int_{a}^{b} \\\\frac{\\\\sin nx}{x} \\\\, dx\\\\) where \\\\( 0 < a < b \\\\).': 0.875,\n",
       " 'Compute the limit of the sequence \\\\( a_n = \\\\frac{[(n^2+1)(n^2-n+1)]^n}{(n^2+n)^{2n}} \\\\) as \\\\( n \\\\to \\\\infty \\\\), where \\\\( n \\\\geq 1 \\\\).': 0.0,\n",
       " 'Given three random variables \\\\(X\\\\), \\\\(Y\\\\), and \\\\(Z\\\\) with fixed correlations \\\\(\\\\mathbb{C}or(X,Y)\\\\) and \\\\(\\\\mathbb{C}or(Y,Z)\\\\), determine the possible values of the remaining correlation \\\\(\\\\mathbb{C}or(X,Z)\\\\).': 0.0,\n",
       " 'Evaluate the following definite integral:\\n\\n\\\\[\\n\\\\int_{e^{2}}^{e^{3}}\\\\frac{\\\\ln x\\\\cdot \\\\ln (x\\\\ln x)\\\\cdot \\\\ln \\\\{x\\\\ln (x\\\\ln x)\\\\}+\\\\ln x+1}{\\\\ln x\\\\cdot \\\\ln (x\\\\ln x)}\\\\ dx\\n\\\\]': 0.0,\n",
       " 'Evaluate the integral \\\\( \\\\int \\\\! \\\\frac{x+1}{x^2 + x \\\\ln x} \\\\, dx. \\\\)': 0.0,\n",
       " 'How many functions $f:[0,1]\\\\rightarrow [0,1]$ satisfy the condition $|f(x)-f(y)|=|x-y|$ for all $x,y\\\\in[0,1]$?': 1.0,\n",
       " 'Evaluate the integral \\\\(\\\\int_0^1 \\\\ln{(1-x)}\\\\ln{x} \\\\, dx\\\\).': 0.0,\n",
       " 'Evaluate the integral \\\\( \\\\int_{\\\\frac{\\\\pi}{3}}^{\\\\frac{\\\\pi}{2}} \\\\frac{1}{1 + \\\\sin \\\\theta - \\\\cos \\\\theta} \\\\, d\\\\theta \\\\).': 0.0,\n",
       " 'Let \\\\( u_n \\\\) be a sequence of real numbers. If \\\\( \\\\frac{1}{u_n} \\\\) diverges, what can we say about \\\\( u_n \\\\)?': 0.5,\n",
       " 'Evaluate the limit:\\n\\n$$ \\\\lim_{n \\\\rightarrow \\\\infty } \\\\sum_{k=0}^{n} \\\\frac{\\\\binom{n}{k}}{n^k \\\\cdot (k+3)} $$': 0.0,\n",
       " 'Find \\\\( \\\\lim_{x \\\\rightarrow 0} \\\\left[ \\\\lim_{n \\\\rightarrow \\\\infty} \\\\frac{1}{x^2} \\\\left( A^n - E \\\\right) \\\\right] \\\\), where \\\\( A \\\\in M_{2}(\\\\mathbb{R}) \\\\) and \\\\( E \\\\) is the identity 2x2 matrix. Given \\\\( A = \\\\begin{pmatrix} 1 & \\\\frac{x^2}{n} \\\\\\\\ -\\\\frac{x^2}{n} & 1 \\\\end{pmatrix} \\\\).': 0.0,\n",
       " 'Sketch the curve given by the parametric equations $\\\\alpha(t) = (-1 + t^2, 2 - t^2)$ for $t \\\\in \\\\mathbb{R}$.': 0.0,\n",
       " 'Evaluate the integral $\\\\int_{0}^{\\\\frac{\\\\pi}{4}} \\\\ln(1 + \\\\tan x)\\\\ dx$.': 0.0,\n",
       " 'Let \\\\( f:[0,1] \\\\to \\\\mathbb{R} \\\\) be a given continuous function. Find the limit\\n\\\\[ \\\\lim_{n \\\\to \\\\infty} (n+1) \\\\sum_{k=0}^n \\\\int_0^1 x^k (1-x)^{n-k} f(x) \\\\, dx. \\\\]': 0.0,\n",
       " 'Calculate the integral\\n$$\\\\int_L |y|\\\\,ds$$\\nwhere $L$ is the curve given by the equation $r = a(1 + \\\\cos\\\\varphi)$.': 0.0,\n",
       " 'Find the inverse Laplace Transform of \\\\( \\\\ln\\\\frac{s-3}{s+1} \\\\) without using complex variables.': 0.0,\n",
       " 'Solve the Initial Value Problem:\\n\\\\[ \\\\frac{dy}{dx} = x^2(y^2 + y - 2) \\\\]\\nwith the initial condition \\\\( y(1) = 0 \\\\).': 0.0,\n",
       " 'Given a sequence \\\\((x_n)\\\\) determined by \\\\(x_1 = 2022\\\\) and the recurrence relation:\\n\\\\[ 4x_n^2 - 4(2x_n + 1)x_{n+1} + 2023 = 0 \\\\quad \\\\forall n \\\\geq 1 \\\\]\\nFind the limit of the sequence.': 0.0,\n",
       " 'Given the standing height of male adults with a mean of 67.9 inches and a standard deviation of 2.8 inches, determine the approximate sampling distribution for the sample mean of standing heights for samples of 25 randomly selected males.': 0.0,\n",
       " 'Let \\\\( \\\\sum a_n \\\\) be a convergent series with \\\\( a_n \\\\geq 0 \\\\). Determine the nature of the series \\\\( \\\\sum \\\\arctan(a_n) \\\\).': 0.0,\n",
       " 'Find all the Laurent expansions of the function \\\\( \\\\frac{z}{z^2 - 3z + 2} \\\\) about \\\\( z_0 \\\\) and give the region of convergence for each expansion.': 0.0,\n",
       " 'Find the limit of \\\\(( (n^6+6n^5+12n^4+1)^{1/3} - (n^4+4n^3+6n+1)^{1/2})\\\\) as \\\\(n\\\\) tends to infinity.': 0.0,\n",
       " 'Find values of \\\\(a\\\\), \\\\(b\\\\), and \\\\(c\\\\) such that \\\\(0\\\\) is not an eigenvalue of the matrix \\\\(A = \\\\begin{bmatrix} 1 & -2 & a \\\\\\\\ -2 & 1 & b \\\\\\\\ -2 & -2 & c \\\\end{bmatrix}\\\\).': 0.0,\n",
       " 'Evaluate the integral $\\\\int_{0}^{\\\\pi/2} (\\\\sin(4n+2)t - \\\\sin(4n-2)t) \\\\, dt$.': 0.0,\n",
       " 'Find \\\\(\\\\lim_{n\\\\rightarrow\\\\infty}I_n\\\\) where \\\\(I_{n}=\\\\int_0^1\\\\frac{x^n}{\\\\sqrt{x^{2n}+1}}dx\\\\).': 0.875,\n",
       " 'How do you find the asymptotes of the curve given by the equation $x^3 + y^3 - 3axy = 0$?': 0.125,\n",
       " 'Find the value of $$\\\\lim_{k\\\\to\\\\infty}\\\\sum_{n=1}^\\\\infty\\\\frac{\\\\sqrt{k}}{(n+k)\\\\sqrt{n}+n\\\\sqrt{n+k}}$$': 0.0625,\n",
       " 'Evaluate the series $\\\\displaystyle \\\\sum_{n=0}^{+\\\\infty} \\\\frac{(-1)^n}{(2n+1)^3}$.': 0.0,\n",
       " 'Find the eigenvalues and their algebraic and geometric multiplicities for the real $n \\\\times n$ matrix $(\\\\alpha - \\\\beta)I + \\\\beta \\\\mathbf{1}\\\\mathbf{1}^T$, where $I$ is the identity matrix and $\\\\mathbf{1}$ is the column vector of all ones.': 0.0,\n",
       " \"Given the function \\\\( F(x) = \\\\int\\\\limits_0^x (x + y)f(y) \\\\, dy \\\\), where \\\\( f \\\\) is a differentiable function, calculate \\\\( F''(x) \\\\).\": 0.0,\n",
       " 'A box contains 5 red balls, 10 blue balls, and 5 yellow balls. Four balls are selected at random without replacement. If a red or yellow ball is selected, 3 new balls of the same color are added to the box. What is the probability that the first two balls are red, the third ball is blue, and the fourth ball is yellow?': 0.0,\n",
       " \"Evaluate the limit without using L'Hôpital's Rule:\\n$$\\\\lim_{x\\\\to2}\\\\frac{3^x-2^x-(\\\\sqrt{5})^x}{2-x}$$\": 0.0,\n",
       " 'Let \\\\( f_n \\\\) be the sequence of piecewise linear continuous functions defined on \\\\([0, \\\\infty)\\\\) with vertices at \\\\((0,0)\\\\), \\\\(\\\\left(\\\\frac{1}{n}, n\\\\right)\\\\), and \\\\(\\\\left(\\\\frac{2}{n}, 0\\\\right)\\\\), and \\\\( f_n(x) = 0 \\\\) for \\\\( x \\\\ge \\\\frac{2}{n} \\\\). Define \\\\( g(x) = \\\\sup_n f_n(x) \\\\). Determine whether the integral \\\\(\\\\int_0^{\\\\infty} g(x) \\\\, dx\\\\) is finite or infinite.': 0.0,\n",
       " 'Find an approximate value of $(0.99 e^{0.02})^{8}$.': 0.0,\n",
       " 'Determine the limit:\\n\\\\[\\n\\\\lim_{n \\\\to \\\\infty} n^2 \\\\left(\\\\int_{0}^{1} \\\\sqrt[n]{1 + x^n} \\\\, dx - 1\\\\right)\\n\\\\]': 0.0,\n",
       " 'Evaluate $\\\\int^{e^2 + 1}_{e+1}{\\\\frac{x^3 - 2x^2 + 2x - 1}{x^2 - 2x + 1}}{dx}$.': 0.0,\n",
       " 'Find the expected value \\\\( \\\\mathbf{E}(e^{-\\\\sum_{n=1}^{100} X_n}) \\\\), where \\\\( X_n \\\\sim \\\\mathrm{Exp}(n) \\\\) for \\\\( n \\\\geq 1 \\\\).': 0.875,\n",
       " 'In how many ways can the integers from $1$ to $n$ be ordered such that, except for the first integer, every integer differs by $1$ from some integer to the left of it?': 0.0,\n",
       " 'Find the smallest integer \\\\( n \\\\) such that the dihedral group \\\\( D_{4} \\\\) has a faithful operation on a set with \\\\( n \\\\) elements.': 0.9375,\n",
       " 'Find the number of real solutions of the equation \\\\( 3^{x^3 - 3x} - 3^{x+1} + x^3 - 4x = 1 \\\\).': 0.25,\n",
       " 'The volume of a rectangular box with a square base remains constant at 400 cm³ as the area of the base increases at a rate of 13 cm²/sec. Find the rate at which the height of the box is decreasing when each side of the base is 14 cm long.': 0.125,\n",
       " 'Evaluate the integral $\\\\int_1^3 \\\\left(x-\\\\frac{1}{x}\\\\right)(\\\\ln x)^2dx.$': 0.0,\n",
       " 'Compute the integral\\n\\\\[ \\\\int_{[0,2]}(\\\\lfloor\\\\sin x\\\\rfloor + 1_C) \\\\, d\\\\theta \\\\]\\nwhere \\\\( 1_C \\\\) is the characteristic function of the Cantor set \\\\( C \\\\), and \\\\( \\\\theta = \\\\lambda + \\\\delta_{1/6} \\\\), with \\\\( \\\\lambda \\\\) being the Lebesgue measure and \\\\( \\\\delta_{1/6} \\\\) being the Dirac delta measure at \\\\( \\\\frac{1}{6} \\\\).': 0.4375,\n",
       " 'Find all isomorphisms \\\\( f: (\\\\mathbb{Q}, +) \\\\rightarrow (\\\\mathbb{Q}, +) \\\\).': 0.0,\n",
       " 'Let \\\\( X \\\\) be a \\\\( 3 \\\\times 3 \\\\) matrix whose each entry is either \\\\( 0 \\\\) or \\\\( 1 \\\\). Find the probability that \\\\( X \\\\) is invertible.': 0.0,\n",
       " \"How can we compute $ \\\\Gamma ' \\\\left(\\\\frac{1}{2}\\\\right)$?\": 0.0,\n",
       " \"Let \\\\( f \\\\) be a differentiable function such that \\\\( f(xy) = f(x)f(y) \\\\) for \\\\( x, y > 0 \\\\). Suppose \\\\( f(1+x) = 1 + x(1 + g(x)) \\\\) and \\\\( \\\\lim_{x \\\\to 0} g(x) = 0 \\\\). Calculate\\n\\\\[\\n\\\\int \\\\frac{f(x)}{f'(x)} \\\\, dx.\\n\\\\]\": 0.0,\n",
       " 'Evaluate the integral $$\\\\int _{0}^{\\\\infty} \\\\frac{ x^ {1/3}}{1+x^2} dx.$$': 0.0,\n",
       " 'What is the equation of a line that passes through the points (1,0,0,0) and (2,2,2,2) in four-dimensional space?': 0.0,\n",
       " 'Find a reduction formula for \\\\( I_{m, n} = \\\\int \\\\frac{\\\\sin^{m}x}{\\\\cos^{n}x}\\\\ dx \\\\), where \\\\( m \\\\) and \\\\( n \\\\) are positive integers greater than 2.': 0.0,\n",
       " \"Find a continuous function \\\\( f: [-1, 1] \\\\to \\\\mathbb{R} \\\\) that satisfies the following properties:\\n- \\\\( f \\\\) is twice differentiable on \\\\( (-1, 1) \\\\),\\n- \\\\( f(0) = 1 \\\\) and \\\\( f'(0) = 0 \\\\),\\n- for every \\\\( x \\\\in (-1, 1) \\\\), \\\\( f''(x) f^3(x) = -f^2(x) - x^2 \\\\).\": 0.0,\n",
       " 'A body falling under gravity experiences a resisting force of air proportional to the square of the velocity of the body. Write down the differential equation governing the motion satisfied by the distance $y(t)$ traveled by the body in time $t$.': 0.0,\n",
       " 'A heavy rope, 50 ft long, weighs 0.5 lb/ft and hangs over the top of a building 120 ft high. How much work is done in pulling half the rope to the top of the building?': 0.3125,\n",
       " 'Test the convergence of the improper integral $\\\\int^1_0 \\\\frac{\\\\log x}{1-x}\\\\,dx$ using different tests for convergence like limit comparison or comparison tests.': 0.0,\n",
       " 'Convert the given equation of the ellipse $\\\\sqrt{x^2+(y+3)^2} + \\\\sqrt{x^2+(y-3)^2} = 10$ into the standard form $\\\\frac{x^2}{a^2} + \\\\frac{y^2}{b^2} = 1$.': 0.0,\n",
       " 'Evaluate the limit \\\\[\\\\lim_{n\\\\to \\\\infty}\\\\sum_{k=1}^n\\\\frac{k^2+k-1}{(k+1)!}\\\\]': 1.0,\n",
       " 'Evaluate the limit\\n$$\\\\lim_{r \\\\to \\\\infty} \\\\iint_{D_r} \\\\frac{1}{1+x^2+y^2} \\\\, dxdy$$\\nwhere \\\\( D_r = \\\\{(x,y) \\\\in \\\\mathbb{R}^2 \\\\mid 0 \\\\leq y \\\\leq 1, x \\\\geq 0, x^2 + y^2 \\\\leq r^2 \\\\} \\\\).': 0.0,\n",
       " 'Given that \\\\(\\\\sin(x^2 + y^2) = \\\\ln(xy + 1)\\\\), find \\\\(\\\\frac{dy}{dx}\\\\) at \\\\(x = 0\\\\) where \\\\(0 \\\\leq y < \\\\pi\\\\).': 0.125,\n",
       " 'Let \\\\( \\\\alpha = \\\\frac{\\\\pi}{n+1} \\\\) where \\\\( n > 2 \\\\) and \\\\( n \\\\in \\\\mathbb{N}^{*} \\\\). Consider the matrix \\n\\\\[ A = \\\\begin{bmatrix}\\n\\\\sin(\\\\alpha) & \\\\sin(2\\\\alpha) & \\\\cdots & \\\\sin(n\\\\alpha) \\\\\\\\\\n\\\\sin(2\\\\alpha) & \\\\sin(4\\\\alpha) & \\\\cdots & \\\\sin(2n\\\\alpha) \\\\\\\\\\n\\\\vdots & \\\\vdots & \\\\ddots & \\\\vdots \\\\\\\\\\n\\\\sin(n\\\\alpha) & \\\\sin(2n\\\\alpha) & \\\\cdots & \\\\sin(n^2\\\\alpha)\\n\\\\end{bmatrix} \\\\]\\nFind all matrices \\\\( B \\\\in M_n(\\\\mathbb{C}) \\\\) such that \\\\( A^2B + BA^2 = O \\\\).': 0.0,\n",
       " 'Given a square \\\\(ABCD\\\\) with vertices \\\\(A\\\\) and \\\\(B\\\\) on the positive \\\\(x\\\\)-axis and positive \\\\(y\\\\)-axis respectively, and vertex \\\\(C\\\\) in the first quadrant with coordinates \\\\((u, v)\\\\), find the area of the square \\\\(ABCD\\\\) in terms of \\\\(u\\\\) and \\\\(v\\\\).': 0.0,\n",
       " 'Let \\\\( d \\\\) be a positive integer and let \\\\( A \\\\) be a \\\\( d \\\\times d \\\\) matrix with integer entries. Suppose \\\\( I + A + A^2 + \\\\ldots + A^{100} = 0 \\\\) (where \\\\( I \\\\) denotes the identity \\\\( d \\\\times d \\\\) matrix, and \\\\( 0 \\\\) denotes the zero matrix). Determine the positive integers \\\\( n \\\\leq 100 \\\\) for which \\\\( A^n + A^{n+1} + \\\\ldots + A^{100} \\\\) has determinant \\\\( \\\\pm 1 \\\\).': 0.4375,\n",
       " 'Let \\\\( A \\\\in \\\\mathcal{M}_{m,n}(\\\\mathbb{R}) \\\\) be a real matrix with rank \\\\( r \\\\). Find \\\\( \\\\min_{B \\\\in \\\\mathcal{M}_{m,n}(\\\\mathbb{R})} \\\\left\\\\{ \\\\text{rank}(A + iB) \\\\right\\\\} \\\\).': 0.0,\n",
       " 'Find all pairs of natural numbers \\\\( p \\\\) and \\\\( q \\\\) for which \\\\( p^3 - p^2q - 18p = 2q^2 - 3q + 1 \\\\) and where \\\\( p \\\\) is a prime number. Present your answer as an ordered pair \\\\( (p, q) \\\\).': 1.0,\n",
       " 'Let \\\\( F \\\\) be a commuting family of \\\\( 3 \\\\times 3 \\\\) complex matrices. How many linearly independent matrices can \\\\( F \\\\) contain?': 0.0625,\n",
       " 'Evaluate the integral \\\\[\\\\int_0 ^{\\\\pi} e^x \\\\sin x \\\\cos x \\\\sin 2x \\\\cos 2x \\\\, dx\\\\]': 0.0,\n",
       " 'Given the function \\\\( f(x) \\\\) defined as:\\n\\\\[ f(x) = \\\\begin{cases} \\nAx & \\\\text{for } 0 \\\\leq x \\\\leq \\\\frac{a}{2} \\\\\\\\\\nA(a-x) & \\\\text{for } \\\\frac{a}{2} \\\\leq x \\\\leq a \\n\\\\end{cases} \\\\]\\nWhat is the value of the integral \\\\(\\\\int_0^a \\\\frac{d^2 f(x)}{dx^2} \\\\, dx\\\\)?': 0.0,\n",
       " \"Evaluate the integral \\\\( \\\\oint_C \\\\frac{z f'(z)}{f(z)} \\\\, dz \\\\) where \\\\( f(z) = z^4 - 2z^3 + z^2 - 12z + 20 \\\\) and \\\\( C \\\\) is the circle \\\\( |z| = 5 \\\\).\": 0.0,\n",
       " 'For \\\\( a > 1 \\\\), evaluate the integral \\n\\\\[ \\\\int_{0}^{\\\\infty} \\\\left\\\\lfloor \\\\log_{a} \\\\left\\\\lfloor \\\\frac{\\\\lceil x \\\\rceil}{x} \\\\right\\\\rfloor \\\\right\\\\rfloor \\\\, dx. \\\\]': 0.0,\n",
       " 'Find the local minimum of the function \\\\( y = x(1 - x^2)e^{x^2} \\\\).': 0.0,\n",
       " 'Given \\\\( u = \\\\frac{x(x^2 + y^2) + x}{x^2 + y^2} \\\\), find a function \\\\( V \\\\) such that \\\\( F = u + Vi \\\\).': 0.0,\n",
       " 'Let \\\\( f(x) = \\\\frac{e^x}{x} \\\\). Suppose \\\\( f \\\\) is infinitely differentiable in \\\\( (0, \\\\infty) \\\\). Find \\\\( \\\\lim_{n \\\\to \\\\infty} \\\\frac{f^{(2n)}(1)}{(2n)!} \\\\).': 1.0,\n",
       " 'Determine the splitting field of the polynomial \\\\( f(x) = x^4 + 1 \\\\) over \\\\(\\\\mathbb{Q}\\\\).': 0.0,\n",
       " 'Find \\\\( a \\\\) such that the limit \\\\(\\\\lim_{x \\\\to 0} \\\\frac{1 - \\\\cos(1 - \\\\cos(1 - \\\\cos x))}{x^a}\\\\) is finite.': 1.0,\n",
       " 'Find \\\\(\\\\lim\\\\limits_{n\\\\rightarrow \\\\infty}\\\\sum\\\\limits_{k=1}^{n}\\\\left(\\\\frac{k}{n}\\\\right)^{k}.\\\\)': 0.0,\n",
       " 'For all $\\\\varepsilon > 0$, find $n_\\\\varepsilon$ such that for any $n \\\\ge n_\\\\varepsilon$, the following inequality holds: $\\\\left| \\\\dfrac{2n^2 + 3n}{n^2 + 4n + 1} - 2 \\\\right| < \\\\varepsilon$.': 0.0,\n",
       " 'Find the value of the expression: \\\\( L = \\\\lim_{x \\\\to 1} \\\\frac{x\\\\sqrt[2007]{x} - 2008\\\\sqrt[2007]{x} + 2007}{\\\\left(\\\\sqrt[2007]{x} - 1 \\\\right)^2} \\\\)': 0.875,\n",
       " 'Find the equation for the line tangent to \\\\( f(x) = 2x^3 - 1 \\\\) and parallel to \\\\( y - 24x + 2 = 0 \\\\).': 0.0,\n",
       " 'Find all functions \\\\( f: \\\\mathbb{R} \\\\to \\\\mathbb{R} \\\\) that satisfy the following conditions:\\n\\\\[ f(x^2) = f(x)^2 \\\\]\\n\\\\[ f(x+1) = f(x) + 1 \\\\]': 0.0,\n",
       " 'Solve the differential equation in $\\\\mathbb{R}$: $$y^2 \\\\, dy = (x^2 + x) \\\\, dx$$': 0.0,\n",
       " 'On inputs of size n, algorithm A calls itself recursively twice on inputs of size n - 1. The local computation time is linear in n. Determine the running time of the algorithm.': 0.0,\n",
       " 'How do you find the derivative of $(1+x)^{\\\\frac{1}{x}}$?': 0.0,\n",
       " 'An atom of radioactive element A decays (with mean lifetime 5 years) to an atom of radioactive element B, which in turn decays (with mean lifetime 2 years) to an atom of stable element C. Let \\\\( Y_1 \\\\) be the time at which the first decay occurs and let \\\\( Y_2 \\\\) be the time at which the second decay occurs. \\\\( Y_1 \\\\) is exponentially distributed with \\\\( \\\\beta = 5 \\\\) years:\\n\\\\[ f_1(y_1) = \\\\begin{cases} \\\\frac{1}{5} e^{-y_1/5} & \\\\text{for } y_1 > 0 \\\\\\\\ 0 & \\\\text{otherwise} \\\\end{cases} \\\\]\\n\\\\( Y_2 \\\\) also has an exponential distribution, with \\\\( \\\\beta = 2 \\\\) years, but shifted so that it starts with \\\\( y_2 = y_1 \\\\). That is, the conditional density for \\\\( y_2 \\\\) given \\\\( y_1 \\\\) is:\\n\\\\[ f(y_2 | y_1) = \\\\begin{cases} \\\\frac{1}{2} e^{-(y_2 - y_1)/2} & \\\\text{for } y_2 > y_1 \\\\\\\\ 0 & \\\\text{otherwise} \\\\end{cases} \\\\]\\n(a) Find an expression for the joint density \\\\( f(y_1, y_2) \\\\). Include the set on which this is valid.': 0.0,\n",
       " 'A random number generator generates a number between 0 and 1 (including irrational numbers). You can choose to generate one or two numbers. If the total is less than 1, you get to keep your total multiplied by 1000 dollars; otherwise, you get nothing. You can choose whether to spin a second time after the first spin. How can you optimize your strategy to win as much as possible?': 0.0,\n",
       " 'Evaluate the limit of the sequence \\\\( U_n = \\\\sum_{k=1}^{n} \\\\left( \\\\frac{k}{n} \\\\right)^n \\\\).': 0.0,\n",
       " 'Evaluate the integral $\\\\int \\\\frac{x}{x^4 + 2x^2 + 1} \\\\, dx$.': 1.0,\n",
       " 'Evaluate the integral \\\\[\\\\int_{0}^\\\\infty\\\\frac{(\\\\ln x)^2}{1+x^2}\\\\,dx\\\\]': 0.0,\n",
       " 'Evaluate the limit \\\\(\\\\lim_{n\\\\rightarrow \\\\infty}a_{n}\\\\), where \\\\(a_{n} = \\\\int_{0}^{\\\\infty}\\\\frac{(\\\\sin{x})^{n}}{x^{n}}dx\\\\).': 0.9375,\n",
       " 'Find the value of the positive constant \\\\( a \\\\) such that \\\\(\\\\sum_{k=1}^{+\\\\infty}\\\\sum_{n=0}^{+\\\\infty}\\\\frac{a}{2+n}(1-\\\\frac{1}{2+n})^{k-1}\\\\frac{2^n}{n!}=1\\\\).': 0.0,\n",
       " 'Evaluate the integral\\n\\n$$\\\\int_{-\\\\infty}^{\\\\infty} \\\\cos(x)e^{-x^2} \\\\, dx$$': 0.0,\n",
       " 'Given that \\\\( n \\\\times n \\\\) matrices \\\\( A \\\\) and \\\\( B \\\\) are nilpotent, determine whether \\\\( AB \\\\) can be invertible.': 0.0,\n",
       " 'Evaluate the integral $\\\\int_{0}^{1} \\\\left(\\\\frac{\\\\sin{n{\\\\pi}x}}{\\\\sin{{\\\\pi}x}}\\\\right)^{3} dx$.': 0.0,\n",
       " 'Find the degree of the splitting field of \\\\(X^3 - 2\\\\) over \\\\(\\\\mathbb{Z}/7\\\\mathbb{Z}\\\\).': 0.5,\n",
       " 'Evaluate the limit \\\\[ \\\\lim_{n\\\\to\\\\infty}\\\\sum_{i=1}^{n}\\\\text{e}^{\\\\frac{2i}{n}}\\\\cdot\\\\frac{2}{n}. \\\\]': 0.0,\n",
       " 'Calculate \\\\[\\\\int\\\\limits_0^\\\\infty e^{\\\\alpha x}\\\\cos(\\\\alpha k)\\\\,d\\\\alpha,\\\\] where \\\\(x < 0\\\\) and \\\\(k \\\\in \\\\mathbb{Z}.\\\\)': 0.0,\n",
       " 'Evaluate the series $$\\\\sum_{n=0}^{\\\\infty} \\\\frac{\\\\left( \\\\begin{array}{c} 2n \\\\\\\\ n \\\\end{array} \\\\right)^3}{16^{3n}} \\\\frac{42n + 5}{16}.$$': 0.0,\n",
       " 'Evaluate the integral \\\\(\\\\int \\\\frac{x}{1 + x + e^x}dx\\\\), where \\\\(x > 0\\\\).': 0.0,\n",
       " \"Find the image of the line \\\\( l: x + 2y = 0 \\\\) under the linear transformation \\\\(\\\\left(\\\\begin{array}{c}x' \\\\\\\\ y'\\\\end{array}\\\\right)=\\\\left(\\\\begin{array}{cc}1 & 3\\\\\\\\2 & k \\\\end{array}\\\\right)\\\\left(\\\\begin{array}{c}x \\\\\\\\ y\\\\end{array}\\\\right)\\\\).\": 0.0,\n",
       " 'Given that \\\\( y = \\\\sin x + x e^x \\\\) is a solution to the fourth-order ordinary differential equation \\\\( a_4 y^{(4)} + a_3 y^{(3)} + a_2 y^{(2)} + a_1 y^{(1)} + a_0 y = 0 \\\\), where \\\\( a_i \\\\) for \\\\( i = 0, 1, 2, \\\\ldots, 4 \\\\) are constants, find the value of \\\\( a_4 + a_2 \\\\).': 1.0,\n",
       " 'Evaluate the integral $\\\\int_{0}^{1} \\\\frac{\\\\ln(1+x^{2})}{x}\\\\ dx$.': 0.0,\n",
       " 'Given that \\\\( f(x) \\\\) is a polynomial function and satisfies the equation \\\\( f(x) f\\\\left(\\\\frac{1}{x}\\\\right) = f(x) + f\\\\left(\\\\frac{1}{x}\\\\right) \\\\), determine the form of \\\\( f(x) \\\\).': 0.875,\n",
       " 'Study the convergence of the sum $\\\\sum_{n=1}^{\\\\infty}\\\\frac{1}{x_n}$, where the sequence $(x_n)_{n\\\\ge1}$ is defined by $x_1=1$ and $x_{n+1}=\\\\sqrt{x_n^2+\\\\dfrac{1}{n}}$ for any $n\\\\in\\\\mathbb{N^*}$.': 0.0,\n",
       " 'Find the length of the arc of the curve \\\\( f(x) = x^2 + 1 \\\\) from the point \\\\((0,1)\\\\) to the point \\\\((2,5)\\\\).': 0.0,\n",
       " \"Solve the differential equation $2(y' + y) = xy^2$.\": 0.0,\n",
       " 'From an urn containing balls numbered $1, 2, 3, \\\\ldots, n$, we take out $k$ balls consecutively without replacement. Calculate the probability that the numbers on the balls form an increasing sequence.': 0.0,\n",
       " 'Evaluate the double sum \\\\(\\\\sum_{n=0}^{\\\\infty} \\\\sum_{m=0}^{\\\\infty} \\\\binom{2n}{n} \\\\binom{2m}{m} \\\\frac{m + n + 3}{2^{3m + 3n}(m + n + 2)(m + n + 3)} = -2 + \\\\log(16)\\\\).': 1.0,\n",
       " 'Calculate $\\\\lim_{x\\\\to0}\\\\frac{\\\\sin x^n - \\\\sin^n x}{x^{n+2}}$, where $n \\\\in \\\\mathbb{N}$ and $n \\\\ge 2$.': 0.0,\n",
       " 'Evaluate the integral $$\\\\int \\\\frac{dx}{x \\\\cdot (13 - 4 \\\\cdot \\\\ln x + \\\\ln^2 x)^2}.$$': 0.0,\n",
       " 'Let \\\\( X \\\\) be a random variable with the probability density function \\\\( f(x) = \\\\frac{1}{2} e^{-|x|} \\\\). Find the moment-generating function of \\\\( X \\\\).': 0.0,\n",
       " 'Find the limit\\n\\\\[\\n\\\\lim_{n \\\\to \\\\infty} n \\\\int_0^{\\\\frac{\\\\pi}{2}} x f(x) \\\\cos^n x \\\\, dx\\n\\\\]\\nwhere \\\\( f \\\\in C\\\\left( \\\\left[ 0, \\\\frac{\\\\pi}{2} \\\\right] \\\\right) \\\\).': 0.0,\n",
       " 'Find the asymptote equation for the graph of the function \\\\( y(x) \\\\), given parametrically by\\n\\n\\\\[ x = \\\\frac{1}{t^2 - 9}, \\\\quad y = \\\\frac{1}{\\\\ln (t - 2)}, \\\\quad t \\\\in (3, +\\\\infty). \\\\]': 0.0,\n",
       " 'What is the value of the series \\\\(1 - 1 + 1 - 1 + 1 - \\\\ldots\\\\)?': 0.9375,\n",
       " \"Solve the differential equation $$y''-\\\\frac{1+x}{x} y'+\\\\frac{y}{x}=0.$$\": 0.0,\n",
       " 'Let \\\\( X \\\\) and \\\\( Y \\\\) be independent standard normal random variables, and let \\\\( U = \\\\sqrt{X^2 + Y^2} \\\\). Find the probability density function for \\\\( U \\\\).': 0.8125,\n",
       " 'Compute the sum \\\\( S = 1 + \\\\frac{2}{2^2} + \\\\frac{1}{3^2} + \\\\frac{1}{5^2} + \\\\frac{2}{6^2} + \\\\frac{1}{7^2} + \\\\frac{1}{9^2} + \\\\frac{2}{10^2} + \\\\frac{1}{11^2} + \\\\cdots \\\\).': 0.0,\n",
       " 'Find the general solution of the differential equation $\\\\frac{dy}{dx} - 2y = \\\\frac{e^{x}}{y}$.': 0.0,\n",
       " 'Evaluate the integral $\\\\int_{\\\\frac{1}{3}} ^{\\\\frac{1}{2}} \\\\frac{\\\\tan^{-1}(2x)-\\\\cot^{-1}(3x)}{x} dx$.': 0.0,\n",
       " 'Let \\\\( f : \\\\mathbb{C} \\\\to \\\\mathbb{C} \\\\) be an analytic function such that \\\\( f^{-1}(K) \\\\) is compact for every compact \\\\( K \\\\subset \\\\mathbb{C} \\\\). Determine the number of essential singularities of \\\\( f(1/z) \\\\).': 1.0,\n",
       " 'Compute the limit\\n\\\\[\\n\\\\lim_{n\\\\rightarrow\\\\infty} \\\\int_{0}^{\\\\pi} \\\\frac {\\\\sin x}{1+ \\\\cos^2 (nx)} \\\\, dx.\\n\\\\]': 0.0,\n",
       " 'Determine the sum of the series $\\\\sum_{n=0}^\\\\infty\\\\frac{(2n)!!}{(2n+1)!!}x^{2n+1}$ for $x \\\\in (0, 1)$.': 0.0,\n",
       " 'Let \\\\( f(x) \\\\) be a continuous function defined on \\\\( 0 \\\\leq x \\\\leq \\\\pi \\\\) such that \\\\( f(0) = 1 \\\\) and\\n\\n\\\\[\\n\\\\left\\\\{\\\\int_0^{\\\\pi} (\\\\sin x + \\\\cos x) f(x) \\\\, dx\\\\right\\\\}^2 = \\\\pi \\\\int_0^{\\\\pi} \\\\{f(x)\\\\}^2 \\\\, dx.\\n\\\\]\\n\\nEvaluate \\\\( \\\\int_0^{\\\\pi} \\\\{f(x)\\\\}^3 \\\\, dx \\\\).': 0.5625,\n",
       " 'In three multiple-choice questions, each with four options, you are sure that two of the questions have two incorrect options each. For the third question, all four options are equally likely to be correct. What is the probability of answering exactly two questions correctly?': 1.0,\n",
       " 'Evaluate the integral \\\\(\\\\int_0^{\\\\pi/2} \\\\frac{\\\\cos^4 x + \\\\sin x \\\\cos^3 x + \\\\sin^2 x \\\\cos^2 x + \\\\sin^3 x \\\\cos x}{\\\\sin^4 x + \\\\cos^4 x + 2 \\\\sin x \\\\cos^3 x + 2 \\\\sin^2 x \\\\cos^2 x + 2 \\\\sin^3 x \\\\cos x} \\\\, dx\\\\).': 0.0,\n",
       " \"Given the differential equation $f'(x) = f(x) + x$ and the initial condition $f(0) = 1$, find $f(1)$.\": 0.0,\n",
       " 'Find the orthocenter of the triangle $\\\\triangle ABC$ formed by the intersection points of the plane $2x + y + 2z = 9$ with the coordinate axes.': 0.0,\n",
       " 'Solve the differential equation \\\\(\\\\frac{dy}{dx} = \\\\cos(x)(2 - y \\\\csc(x))\\\\) given the initial condition \\\\(x = \\\\frac{\\\\pi}{4}\\\\) and \\\\(y = \\\\frac{3}{\\\\sqrt{2}}\\\\).': 0.0,\n",
       " 'Let \\\\( p \\\\) be a prime integer. Determine the number of \\\\( p \\\\)-Sylow subgroups in the permutation group on \\\\( p \\\\) letters.': 0.0,\n",
       " \"Given the functional equation $\\\\frac{f(x+y)}{1+xy}=f(x)f(y)$ for all $x,y \\\\in \\\\mathbb{R}$ with $xy \\\\neq -1$, and the conditions $f(0) \\\\neq 0$ and $f'(0) = 1$, find the function $f(x)$.\": 0.0,\n",
       " 'Find the range of the disk \\\\( |z| < 1 \\\\) under the function \\\\( w = f(z) = \\\\left| \\\\frac{z+1}{z-1} \\\\right| \\\\).': 0.0,\n",
       " 'Evaluate the limit \\\\( \\\\lim_{n\\\\to\\\\infty} \\\\sqrt[n+1]{\\\\prod_{k=0}^{n} {n \\\\choose k}} \\\\).': 0.0,\n",
       " 'Let $(a_n)_{n \\\\ge 1}$ be a sequence defined by $a_n=\\\\sum\\\\limits_{k=1}^n \\\\left(1+ \\\\binom{n}{k} \\\\right)^{\\\\frac{1}{\\\\binom{2n}{n}}}$. Find $\\\\lim_{n \\\\to \\\\infty} \\\\frac{a_n}{(n!)^{\\\\frac{1}{n}}}$.': 0.0,\n",
       " 'Find the maximum value of $\\\\int_0^1 f(x)^3 \\\\, dx$ under the conditions $-1 \\\\le f(x) \\\\le 1$ and $\\\\int_0^1 f(x) \\\\, dx = 0$.': 0.75,\n",
       " 'Evaluate the infinite series $\\\\sum_{k=1}^{\\\\infty}\\\\frac{1}{k!}$.': 0.0,\n",
       " 'Find the $n$th derivative of the function \\\\( f(x) = \\\\frac{x^n}{1-x} \\\\).': 0.0,\n",
       " 'Compute $\\\\mathop {\\\\lim }\\\\limits_{n \\\\to  + \\\\infty } \\\\int\\\\limits_0^\\\\pi  {\\\\frac{{f(x)}}{{1 + 3{{\\\\cos }^2}\\\\left( {nx} \\\\right)}}\\\\,dx} $ where $f$ is continuous on $[0,\\\\pi]$.': 0.0,\n",
       " 'Evaluate the limit \\\\[\\\\lim_{n\\\\to \\\\infty}\\\\sum_{k=1}^n\\\\frac{1}{2k(2k-1)}\\\\]': 0.0,\n",
       " 'How much work is required to fill a hemispherical tank of radius 6 feet with water through a hole in the base if the water source is at the base? The volume of the hemisphere is \\\\(\\\\frac{2}{3} \\\\pi r^3\\\\) and the weight of water is 62.4 pounds per cubic foot. Use the formula \\\\(W = \\\\int_{0}^{6} (\\\\text{weight})(\\\\text{Volume of slice}) \\\\, dy\\\\).': 0.0,\n",
       " 'Evaluate the integral $\\\\int\\\\frac{x^2+2}{(x\\\\cos x+\\\\sin x)^2}dx$.': 0.0,\n",
       " 'Evaluate the integral $\\\\int_{0}^{\\\\frac{1}{\\\\sqrt{3}}} \\\\sqrt{x+\\\\sqrt{x^2 +1}} \\\\, dx$.': 0.5625,\n",
       " 'Find the minimum volume of a tetrahedron that can inscribe a sphere of radius 1, where the sphere is tangent to all four faces of the tetrahedron.': 0.0,\n",
       " 'Find the sum \\\\( S_n = 1 + \\\\frac{\\\\cos x}{\\\\cos x} + \\\\frac{\\\\cos 2x}{\\\\cos^2 x} + \\\\frac{\\\\cos 3x}{\\\\cos^3 x} + \\\\cdots + \\\\frac{\\\\cos nx}{\\\\cos^n x} \\\\).': 0.0,\n",
       " 'What is the maximum perimeter of all rectangles that can be inscribed in the ellipse given by $\\\\frac{x^2}{a^2} + \\\\frac{y^2}{b^2} = 1$?': 0.0,\n",
       " 'Find the anti-derivative of $\\\\frac{1}{1+\\\\cos^2(2x)}$.': 0.0,\n",
       " 'Evaluate the integral $\\\\displaystyle \\\\int^{\\\\infty}_{0}\\\\frac{\\\\sin (kx)}{x}dx$.': 0.0,\n",
       " 'Given a multiplicative group $G$ of order $9$ with distinct elements $p$ and $q$, both of which have order $3$, and $q \\\\neq p^2$, write down the elements of a proper subgroup of $G$ which does not contain $p$.': 0.0,\n",
       " 'Let \\\\( -\\\\pi < \\\\theta \\\\leq \\\\pi \\\\) be the angle between the vector \\\\( (x, y) \\\\) and the line \\\\( y = x \\\\).\\n(a) Compute and simplify \\\\( \\\\theta_x \\\\).\\n(b) Compute and simplify \\\\( \\\\theta_y \\\\).\\n(c) Compute and simplify \\\\( \\\\theta_{xx} + \\\\theta_{yy} \\\\).': 0.3125,\n",
       " 'Evaluate the integral $\\\\int_{C} \\\\frac{\\\\cos {z}}{z(z^2+8)}dz$, where $C$ is the positively oriented boundary of the square whose sides lie along the lines $x = \\\\pm 2$ and $y = \\\\pm 2$.': 0.0,\n",
       " 'Calculate the integral $\\\\int_{-1}^{1}\\\\!{\\\\frac{1}{\\\\sqrt [3]{ \\\\left( 1-x \\\\right) \\\\left( 1+x \\\\right)^{2}}}}{dx}$ using residue theory.': 0.0,\n",
       " 'Analyze the function \\\\( h(z) = \\\\frac{e^z - 1}{e^{2z} - 1} \\\\) to determine its singularities and classify them. Specifically, determine if the singularity at \\\\( z = 0 \\\\) is removable.': 0.0625,\n",
       " 'For what values of \\\\( p > 0 \\\\) does the series \\\\(\\\\sum_{n=1}^{\\\\infty}\\\\left(1-\\\\dfrac{1}{n^p}\\\\right)^n\\\\) converge?': 0.0,\n",
       " 'Determine the nature of the series \\\\( S = \\\\sum_{n=2}^{+\\\\infty}\\\\frac{1}{(\\\\ln n)^{\\\\sqrt{\\\\ln n}}} \\\\).': 0.0,\n",
       " 'Evaluate the sum \\\\(\\\\sum_{n=0}^{\\\\infty} \\\\frac{1}{n!(n+2)}\\\\).': 0.9375,\n",
       " 'Compute the limit: \\\\(\\\\lim_{n\\\\to+\\\\infty}\\\\left(n^2\\\\left(\\\\frac{\\\\arctan(n+1)}{n+1} - \\\\frac{\\\\arctan(n)}{n}\\\\right) - \\\\frac{\\\\pi}{2}\\\\right)\\\\)': 0.0,\n",
       " 'Determine the value of \\\\( a \\\\) such that the curves \\\\( y_1 = 1 - \\\\cos x \\\\) for \\\\( x \\\\in (0, \\\\pi) \\\\) and \\\\( y_2 = \\\\frac{\\\\sqrt{3}}{2} |x| + a \\\\) touch each other.': 0.0,\n",
       " 'A cylinder is obtained by revolving a rectangle about the $x$-axis, where the base of the rectangle lies on the $x$-axis and the entire rectangle is between the curve $f(x) = \\\\frac{x}{(x^2 + 1)}$ and the $x$-axis. Find the maximum possible volume of the cylinder.': 0.0,\n",
       " \"Given a function \\\\( \\\\phi : \\\\mathbb{R} \\\\to \\\\mathbb{R} \\\\) with a continuous derivative that satisfies \\\\( \\\\phi'(x_0) \\\\neq 0 \\\\), and the point \\\\( (x_0, y_0, u_0, v_0) \\\\in \\\\mathbb{R}^4 \\\\) satisfying \\\\( u = \\\\phi(x) \\\\) and \\\\( v = -y + x \\\\phi(x) \\\\), find \\\\( \\\\frac{dy}{du}(u_0, v_0) \\\\) using the implicit function theorem.\": 0.0,\n",
       " 'Let $\\\\{\\\\bar{v_1}, \\\\bar{v_2}, \\\\bar{v_3}\\\\} \\\\subset \\\\mathbb{R}^3$ where $\\\\bar{v_1} = (1, \\\\alpha, 0)$, $\\\\bar{v_2} = (\\\\alpha, 1, 1)$, and $\\\\bar{v_3} = (1, 0, \\\\alpha)$ with $\\\\alpha \\\\in \\\\mathbb{R}$. Find $\\\\alpha \\\\in \\\\mathbb{R}$ such that $S = \\\\{\\\\bar{v_1}, \\\\bar{v_2}, \\\\bar{v_3}\\\\}$ is a basis for $\\\\mathbb{R}^3$.': 0.0,\n",
       " 'Calculate the complex integral \\\\( I = \\\\int_{|z|=2} \\\\frac{2z+1}{z^2 - 4z + 3} \\\\, dz \\\\).': 1.0,\n",
       " 'Evaluate the integral \\\\(\\\\int \\\\frac{\\\\cot^2 x}{1 + \\\\tan^2 x} \\\\, dx\\\\).': 0.625,\n",
       " 'Given the equation \\\\( y + \\\\sin y = x \\\\), find the second derivative \\\\( \\\\frac{d^2y}{dx^2} \\\\).': 0.0,\n",
       " 'For \\\\(0 < a < b\\\\), find the value of the integral \\\\(\\\\int_{0}^{\\\\infty} \\\\frac{e^{-ax^2} - e^{-bx^2}}{x^2} \\\\, dx\\\\).': 0.0,\n",
       " 'Which rational numbers $t$ (excluding integers) are such that $3t^3 + 10t^2 - 3t$ is an integer?': 0.0625,\n",
       " 'Compute $\\\\lim_{n\\\\to \\\\infty}\\\\sum_{k=1}^{n}\\\\frac{1}{k\\\\cdot 2^{k}}$.': 0.0,\n",
       " 'Let \\\\( n \\\\geq 2 \\\\) and \\\\( K \\\\) be a field with characteristic not equal to 2. Let \\\\( J_n \\\\) be the nilpotent Jordan block of dimension \\\\( n \\\\). Does there exist a matrix \\\\( B \\\\in \\\\mathcal{M}_n(K) \\\\) such that \\\\( B \\\\) is similar to \\\\( A \\\\) and \\\\( A + B \\\\) is invertible?': 0.0,\n",
       " 'Given that after \\\\( k \\\\) tosses, tails is ahead of heads by \\\\( a > 0 \\\\), what is the probability of obtaining heads on the \\\\( k+1 \\\\)-th toss, given that the first return to equilibrium will occur at the \\\\( k + a + 2n \\\\)-th toss? For which \\\\( n \\\\) is this probability less than \\\\( \\\\frac{1}{2} \\\\)?': 0.0,\n",
       " 'Solve the differential equation \\\\( x \\\\, dy - y \\\\, dx = (x^2 + y^2) \\\\, dx \\\\).': 0.0,\n",
       " 'If the sum of entries in each row of an \\\\( n \\\\times n \\\\) real matrix \\\\( A \\\\) is 2, compute the sum of each row of \\\\( A^5 \\\\).': 1.0,\n",
       " 'Let \\\\( f \\\\) be a Lebesgue measurable function on \\\\( \\\\mathbb{R} \\\\) such that \\\\( x^3 f(x) \\\\to 1 \\\\) as \\\\( x \\\\to +\\\\infty \\\\). Evaluate\\n\\\\[\\n\\\\lim_{c \\\\to +\\\\infty} \\\\left( c \\\\cdot \\\\int_c^{+\\\\infty} (x - c) f(x) \\\\, dx \\\\right).\\n\\\\]': 1.0,\n",
       " 'Evaluate the limit $$\\\\lim_{n\\\\to\\\\infty}\\\\frac{\\\\left(\\\\frac{\\\\pi}{2}\\\\right)^{n+1}}{\\\\prod_{k=0}^{n}\\\\tan^{-1}(n+k)}.$$': 0.0,\n",
       " 'If the function \\\\( h \\\\) is a real continuous function, find the limit:\\n\\\\[\\n\\\\lim_{n \\\\rightarrow +\\\\infty} \\\\frac{1}{n} \\\\int_{0}^{1} x^{\\\\frac{1}{n} - 1} h(x) \\\\, dx\\n\\\\]': 0.0,\n",
       " 'Determine the intersection point on the y-axis of two perpendicular lines that are both tangent to the parabola \\\\( y = x^2 \\\\).': 1.0,\n",
       " 'Evaluate the integral $\\\\int_{\\\\frac{1}{2014}}^{2014} \\\\frac{\\\\tan^{-1}{x}}{x} \\\\, dx$.': 0.0,\n",
       " 'Find \\\\(\\\\lim _{n \\\\to \\\\infty} \\\\frac{2 \\\\log 2 + 3 \\\\log 3 + \\\\cdots + n \\\\log n}{n^2 \\\\log n}\\\\). Assume \\\\(\\\\log\\\\) denotes the natural logarithm.': 1.0,\n",
       " 'Use the result\\n\\n\\\\[ \\\\int_{0}^{a} f(x)\\\\ dx = \\\\int_{0}^{a} f(a-x)\\\\ dx \\\\]\\n\\nto evaluate\\n\\n\\\\[ \\\\int_{0}^{\\\\pi} \\\\frac{x}{2+\\\\tan^{2}x}\\\\ dx. \\\\]': 0.0,\n",
       " \"Compute the integral $\\\\int_C e^z \\\\, dz$ where $C$ is the contour from $1 - i$ to $1 + i$. Use the definition $\\\\int_C f(z) \\\\, dz = \\\\int_C f(z(t)) z'(t) \\\\, dt$.\": 0.0,\n",
       " 'Given the functions \\\\( f(x) = \\\\begin{cases} 2, & \\\\text{if } x < 2 \\\\\\\\ 1, & \\\\text{if } x > 2 \\\\end{cases} \\\\), \\\\( g(x) = x^2 - 3x + 4 \\\\), and \\\\( h(x) = x^2 - 4x + 6 \\\\), find \\\\(\\\\lim_{x \\\\to 2} f(g(x))\\\\).': 0.0,\n",
       " 'Evaluate the following sum:\\n\\n$$\\\\mathcal{S}_n = \\\\frac{\\\\tan 1}{\\\\cos 2} + \\\\frac{\\\\tan 2}{\\\\cos 4} + \\\\cdots + \\\\frac{\\\\tan 2^n}{\\\\cos 2^{n+1}}$$': 0.0,\n",
       " 'In a game of Texas Holdem poker, both players are dealt two cards from a standard deck of 52 cards. Your friend turns over both of his cards, which are the 4 of hearts and the ace of hearts. What is the probability that you have a pair?': 0.125,\n",
       " 'Calculate the limit:\\n$$\\\\ell = \\\\lim_{T\\\\to+\\\\infty}\\\\frac{1}{2T}\\\\int_{-T}^T\\\\frac{\\\\zeta(\\\\frac{3}{2}+it)}{\\\\zeta(\\\\frac{3}{2}-it)}\\\\, {\\\\rm d}t$$': 0.0,\n",
       " 'If the series \\\\( \\\\sum^{\\\\infty}_{k=1} \\\\frac{1}{4k^2} \\\\) is approximated by its first 15 terms, what is the estimated error?': 0.0625,\n",
       " \"Determine the Wronskian determinant \\\\( D(W) \\\\) for the homogeneous differential equation \\\\((\\\\cos x)u''(x) + (\\\\sin x)u'(x) - xu = 0\\\\). How can the first linearly independent solution be found?\": 0.0,\n",
       " 'Find the continuous function \\\\( f(x) \\\\) that satisfies the following equation:\\n\\n\\\\[\\n\\\\int_0^x f(t) \\\\, dt + \\\\int_0^x t f(x-t) \\\\, dt = e^{-x} - 1.\\n\\\\]': 0.0,\n",
       " 'Let \\\\( f^{1}(x) = f(x) \\\\) and for \\\\( \\\\forall n \\\\geq 1 \\\\in \\\\mathbb{N} \\\\), given that \\\\( f^{n+1}(x) = f^{n}(f(x)) \\\\). Also given that \\\\( f(x) = x^3 - \\\\frac{3x^2}{2} + x + \\\\frac{1}{4} \\\\). Find\\n\\\\[ \\\\int_{0}^{1} f^{4038}(x) \\\\, dx. \\\\]': 0.9375,\n",
       " 'Find all finite groups that have only one proper maximal subgroup.': 0.0,\n",
       " 'Determine \\\\( \\\\mbox{Hom}(\\\\mathbb{Z}_6, \\\\mathbb{Z}) \\\\).': 0.0625,\n",
       " 'Determine whether the series \\\\(\\\\sum_{p \\\\in P} \\\\frac{1}{e^p}\\\\) converges, where \\\\(P\\\\) is the set of all prime numbers. If it converges, find an elementary solution or determine if the decimal approximation \\\\(0.19279118970439518\\\\) is the best representation.': 0.9375,\n",
       " 'For \\\\( n = 1, 2, \\\\dots \\\\), let \\n\\\\[ S_n = \\\\log\\\\left(\\\\sqrt[n^2]{1^1 \\\\cdot 2^2 \\\\cdot \\\\dotsb \\\\cdot n^n}\\\\right) - \\\\log(\\\\sqrt{n}), \\\\]\\nwhere \\\\(\\\\log\\\\) denotes the natural logarithm. Find \\\\(\\\\lim_{n \\\\to \\\\infty} S_n\\\\).': 1.0,\n",
       " 'Evaluate the integral \\\\[ \\\\int_{1}^{\\\\infty} \\\\frac{\\\\sqrt{x^2-1}}{x^4} \\\\, dx. \\\\]': 0.9375,\n",
       " 'Calculate the limit $\\\\lim_{x\\\\to 0}\\\\ \\\\left(\\\\frac{\\\\cos x}{\\\\cos 2x}\\\\right)^{\\\\frac 1{x^2}}$.': 0.0,\n",
       " 'Let \\\\( p \\\\) be a prime number. How many positive integers \\\\( m \\\\) such that \\\\( m < p \\\\) are there for which there exists a natural number \\\\( k \\\\) such that \\\\( k^3 \\\\equiv m \\\\pmod{p} \\\\)?': 0.0,\n",
       " 'Evaluate the integral \\\\( \\\\int_{|z| = 1/2} \\\\frac{\\\\cot \\\\pi z}{z^2} \\\\, dz \\\\).': 0.0,\n",
       " 'Calculate the integral \\\\( \\\\int_{0}^{1}\\\\int_{0}^{1}...\\\\int_{0}^{1}{(y - x_1)(y - x_2) \\\\cdots (y - x_n) \\\\, dx_1 \\\\, dx_2 \\\\, \\\\cdots \\\\, dx_n \\\\, dy} \\\\), where the integral is taken over \\\\( (n+1) \\\\) times \\\\( \\\\int_{0}^{1} \\\\).': 0.0,\n",
       " 'Evaluate the integral $\\\\int \\\\frac{e^{x}}{(x+1)} \\\\ dx$.': 0.0,\n",
       " 'Find the surface area obtained by rotating the curve \\\\( y = 3x^3 \\\\) from \\\\( x = 0 \\\\) to \\\\( x = 3 \\\\) about the x-axis.': 0.0,\n",
       " 'Calculate the integral\\n\\\\[\\n\\\\int_{S(0,1)} \\\\eta^{k} d\\\\eta_{_{s}}\\n\\\\]\\nwhere \\\\(\\\\eta = (\\\\eta_{1}, \\\\eta_{2}, \\\\eta_{3})\\\\) and \\\\(|\\\\eta| = 1\\\\), \\\\(k = (k_{1}, k_{2}, k_{3})\\\\) and \\\\(|k| = 1\\\\), and \\\\(S(0,1) \\\\in \\\\mathbb{R}^{3}\\\\).': 1.0,\n",
       " 'Suppose \\\\( Y_1, Y_2, \\\\ldots \\\\) are independent and identically distributed (iid) random variables with a uniform distribution over \\\\(\\\\{-1, +1\\\\}\\\\). For each \\\\( j \\\\in \\\\mathbb{N} \\\\), let \\\\( Z_j \\\\) be the parity of the number of \\\\( k \\\\leq j \\\\) such that \\\\( Y_k = +1 \\\\). Specifically, \\\\( Z_j = +1 \\\\) if there are an odd number of \\\\( k \\\\leq j \\\\) with \\\\( Y_k = +1 \\\\), and \\\\( Z_j = 0 \\\\) if there are an even number of \\\\( k \\\\leq j \\\\) with \\\\( Y_k = +1 \\\\). What is the distribution of \\\\( Z_{2023} \\\\)?': 0.0,\n",
       " 'Let \\\\( f: [0,1] \\\\to \\\\mathbb{R} \\\\) be a continuous non-decreasing function such that \\\\( x < y \\\\implies f(x) < f(y) \\\\). Determine whether the integral \\\\( \\\\int_{[0,1]^2} \\\\frac{f(x) - f(y)}{x - y} \\\\, dxdy \\\\) is finite.': 0.0,\n",
       " 'Determine the order of the group defined by generators \\\\(a\\\\) and \\\\(b\\\\) with the relations \\\\(a^8 = b^2a^4 = ab^{-1}ab = e\\\\).': 0.4375,\n",
       " 'Compute the limit \\\\(\\\\lim_{n\\\\to\\\\infty}\\\\left(\\\\frac{\\\\sqrt{n^{2}+n}-1}{n}\\\\right)^{2\\\\sqrt{n^{2}-n}+1}\\\\).': 0.0,\n",
       " 'Let \\\\( a_n \\\\) be a sequence whose elements are \\\\( -1 \\\\) and \\\\( 1 \\\\). Consider the function \\\\( f(x) = \\\\sum_{n=0}^{\\\\infty} \\\\frac{a_n}{n!} x^n \\\\). Find a condition on \\\\( a_n \\\\) such that for all integers \\\\( k \\\\geq 0 \\\\) and for all \\\\( x \\\\geq 0 \\\\), \\\\( |f^{(k)}(x)| \\\\leq 1 \\\\).': 0.0,\n",
       " 'Evaluate $\\\\lim_{n\\\\rightarrow \\\\infty}\\\\int_{0}^{1}\\\\sqrt[n]{x^n+(1-x)^n}dx$.': 0.6875,\n",
       " 'Let \\\\( a \\\\) be the \\\\( x \\\\)-coordinate of the point of intersection of the curves \\\\( y = f(x) = \\\\frac{1}{\\\\cos x} \\\\) and \\\\( y = g(x) = 2\\\\tan x \\\\) for \\\\( -\\\\frac{\\\\pi}{2} < x < \\\\frac{\\\\pi}{2} \\\\). Evaluate \\\\( \\\\int_0^a x f(x) g(x) \\\\, dx \\\\).': 0.0,\n",
       " 'Evaluate the limit $$\\\\lim_{x\\\\to 0}\\\\cfrac{2x^7-\\\\int\\\\limits_{x^2}^{x^3}\\\\sin t^2dt}{\\\\tan x^6}.$$': 0.6875,\n",
       " 'Find \\\\( \\\\lim_{x \\\\rightarrow 0} \\\\left( \\\\frac{\\\\tan x + 1}{\\\\sin x + 1} \\\\right)^{\\\\frac{1}{\\\\sin x}} \\\\).': 1.0,\n",
       " 'Evaluate the limit \\\\(\\\\lim_{n\\\\to\\\\infty}\\\\left[\\\\frac{1}{n^k}(1^k+2^k+\\\\ldots+n^k)-\\\\frac{n}{1+k}\\\\right]\\\\).': 1.0,\n",
       " 'If \\\\(\\\\sum_{k=2}^{\\\\infty} \\\\sin(2^k)x = a\\\\), find the value of \\\\(\\\\sum_{k=0}^{\\\\infty} \\\\left( [\\\\cot(2^k)x]^3 - [\\\\cot(2^k)x] \\\\right) [\\\\sin(2^k)x]^4\\\\) in terms of \\\\(a\\\\).': 0.0,\n",
       " 'Evaluate the integral \\\\( I = \\\\int_{0}^{1} \\\\frac{x^2 e^{\\\\arctan x}}{\\\\sqrt{1 + x^2}} \\\\, dx \\\\).': 0.0,\n",
       " 'There are three groups of wrestlers: the first group contains \\\\( x \\\\) wrestlers, the second group contains \\\\( x+1 \\\\) wrestlers, and the third group contains \\\\( y \\\\) wrestlers. The total number of wrestlers in all three groups is 24. How many maximum fights can occur if each fight involves two wrestlers from different groups?': 1.0,\n",
       " 'Given the sequence $(U_n)$ defined by $U_1 = 2$ and $U_{n+1} = \\\\frac{U_n^2 + 2015U_n}{2016}$, consider the sequence $(V_n)$ defined by $V_n = \\\\sum_{k=1}^{n} \\\\frac{U_k}{U_{k+1} - 1}$. Find $\\\\lim_{n \\\\to \\\\infty} V_n$.': 0.1875,\n",
       " 'Given the parametric equations $x=2t-\\\\sin t$ and $y=2-\\\\cos t$ for $0 < t < 2\\\\pi$, find the value of $(x,y)$ when $\\\\frac{dy}{dx}=0$.': 1.0,\n",
       " 'What relationship should be between the positive real numbers $a$ and $b$ such that the sequence $\\\\left(\\\\left( a\\\\sqrt[n]{n} + b \\\\right)^{\\\\frac{n}{\\\\ln n}}\\\\right)_{n\\\\ge 1}$ has a nonzero and finite limit? For such $a$ and $b$, calculate the limit of this sequence.': 0.0,\n",
       " 'In a discrete metric space \\\\((X,d)\\\\) and for a point \\\\(x \\\\in X\\\\), find \\\\(B(x,1/2)\\\\).': 0.0,\n",
       " 'Find the range of \\\\( k \\\\) for which the curves \\\\( y = k(x - x^3) \\\\) and \\\\( x = k(y - y^3) \\\\) have intersection points \\\\( (\\\\alpha, \\\\beta) \\\\) such that \\\\( \\\\alpha \\\\neq \\\\beta \\\\) in the first quadrant.': 0.0,\n",
       " 'Transform the double integral \\\\(\\\\int_0^5 \\\\int_0^{\\\\sqrt{25 - y^2}} xe^y \\\\, dx \\\\, dy\\\\) to polar coordinates and determine the new integration limits.': 0.0,\n",
       " 'Let \\\\( a_n, b_n \\\\in \\\\mathbb{Q} \\\\) such that \\\\( (1 + \\\\sqrt{2})^n = a_n + b_n \\\\sqrt{2} \\\\) for all \\\\( n \\\\in \\\\mathbb{N} \\\\). Evaluate \\\\( \\\\lim_{n \\\\to \\\\infty} \\\\frac{a_n}{b_n} \\\\).': 0.0,\n",
       " 'Determine the volume of the region that lies under the paraboloid \\\\( z = x^2 + y^2 \\\\) and inside the cylinder \\\\( x^2 + y^2 = 2x \\\\).': 0.0,\n",
       " 'Find \\\\(\\\\lim_{n\\\\to\\\\infty} \\\\frac{1^n + 2^n + \\\\ldots + n^n}{n^n}\\\\).': 0.0,\n",
       " 'Find the maximum value of a determinant of order five where each element is either -1 or 1.': 0.875,\n",
       " 'Three points \\\\( U, P, Q \\\\) lie on the curve parameterized by \\\\( x = \\\\tan \\\\theta \\\\) and \\\\( y = \\\\frac{1}{\\\\cos \\\\theta} \\\\) for \\\\( -\\\\frac{\\\\pi}{2} < \\\\theta < \\\\frac{\\\\pi}{2} \\\\). Let \\\\( u, u-\\\\lambda, u+\\\\lambda \\\\) (with \\\\( u > 0 \\\\)) be the abcissae of the points \\\\( U, P, Q \\\\), respectively. A line through the point \\\\( U \\\\) and perpendicular to the \\\\( x \\\\)-axis intersects the segment \\\\( PQ \\\\) at the point \\\\( V \\\\). Denote by \\\\( L \\\\) the length of the segment \\\\( UV \\\\). Evaluate the integral\\n\\n\\\\[\\n\\\\int_1^{\\\\sqrt{3}} \\\\lim_{\\\\lambda \\\\to 0} \\\\frac{L}{\\\\lambda^2} \\\\, du.\\n\\\\]': 0.0,\n",
       " 'For a positive integer \\\\( n \\\\), let \\\\( \\\\sigma(n) \\\\) denote the sum of the positive divisors of \\\\( n \\\\). Determine \\n\\\\[\\n\\\\limsup_{n \\\\to \\\\infty} \\\\frac{\\\\sigma(n^{2023})}{(\\\\sigma(n))^{2023}}.\\n\\\\]': 0.375,\n",
       " 'How do you find the eigenvalues of the map \\\\( T: M_{n}(\\\\mathbb{C}) \\\\rightarrow M_{n}(\\\\mathbb{C}) \\\\) given by \\\\( T(X) = AX - XA \\\\)?': 0.0,\n",
       " 'Evaluate the limit \\\\(\\\\lim_{x \\\\to \\\\infty} \\\\left(\\\\frac{a_1^{1/x} + a_2^{1/x} + \\\\cdots + a_n^{1/x}}{n}\\\\right)^{nx}\\\\).': 0.0,\n",
       " 'Evaluate the integral $\\\\int_{0}^{2\\\\pi} \\\\frac{x \\\\sin^{2n}x}{\\\\sin^{2n}x + \\\\cos^{2n}x} \\\\, dx$.': 0.0,\n",
       " 'Find the expected distance from a randomly chosen point in a unit square to its center.': 0.0,\n",
       " 'Determine whether \\\\( H = \\\\{(1), (123), (132)\\\\} \\\\) is a normal subgroup of \\\\( G = A_5 \\\\). If it is, write out a Cayley table for the factor group \\\\( G/H \\\\).': 0.0,\n",
       " \"Find all differentiable functions \\\\( f: \\\\mathbb{R} \\\\rightarrow \\\\mathbb{R} \\\\) satisfying \\\\( f(x) = cf'(x) \\\\), where \\\\( c \\\\) is a given real number.\": 0.5,\n",
       " 'Find the limit \\\\(\\\\lim_{n\\\\rightarrow\\\\infty}\\\\frac{\\\\sum_{k=2}^{n}\\\\left(k^{2}\\\\cdotp\\\\sqrt[k]{C_{2k}^{k}}\\\\right)}{n\\\\left(n+1\\\\right)\\\\left(2n+1\\\\right)}\\\\).': 0.9375,\n",
       " 'Find all values of \\\\( p \\\\) for which the integral \\n\\\\[\\n\\\\int_3^{\\\\infty} \\\\frac{\\\\ln x}{x^p \\\\ln (\\\\ln x)} \\\\, dx\\n\\\\]\\nconverges.': 0.0,\n",
       " 'Calculate the sum of the series \\n\\\\[1+\\\\frac{4}{5}+\\\\frac{9}{25}+\\\\frac{16}{125}+\\\\cdots \\\\]': 1.0,\n",
       " 'Given an isosceles triangle \\\\(ABC\\\\) inscribed in a circle of radius \\\\(r\\\\) with \\\\(AB = AC\\\\), altitude \\\\(h\\\\) from \\\\(A\\\\) to \\\\(BC\\\\), and perimeter \\\\(P\\\\), find the value of \\\\(\\\\lim_{h \\\\to 0} \\\\frac{\\\\Delta}{P^3}\\\\) in terms of \\\\(r\\\\), where \\\\(\\\\Delta\\\\) is the area of the triangle.': 0.0,\n",
       " \"Determine whether the differential equation \\\\( ay'' + by' + cy^2 = 0 \\\\) is solvable, and if so, find the solution.\": 0.0,\n",
       " \"Given a differentiable function \\\\( F(x) \\\\) such that \\\\( F'(a - x) = F'(x) \\\\) for all \\\\( x \\\\) satisfying \\\\( 0 \\\\leq x \\\\leq a \\\\), evaluate \\\\( \\\\int_{0}^{a} F(x) \\\\, dx \\\\) and provide an example of such a function.\": 0.0,\n",
       " 'If \\\\( f: \\\\mathbb{R} \\\\to \\\\mathbb{R} \\\\) is continuous and \\\\( \\\\int_0^1 (f(x))^2 \\\\, dx = 3 \\\\), find the maximum value of \\\\( \\\\int_0^1 x f(x) \\\\, dx \\\\).': 1.0,\n",
       " 'Evaluate the integral $\\\\int \\\\frac{dx}{\\\\sqrt{5x+3} + \\\\sqrt{5x-2}}$.': 0.0,\n",
       " 'Calculate the limit $$\\\\lim_{n\\\\to\\\\infty} \\\\frac{e^{a_n}}{\\\\sqrt{n}}$$ where \\\\(a_n = 1 + \\\\frac{1}{3} + \\\\frac{1}{5} + \\\\cdots + \\\\frac{1}{2n-1}\\\\).': 0.0,\n",
       " 'Evaluate the integral \\\\[ \\\\int_{0}^{+\\\\infty} \\\\ln{(\\\\tanh{x})}\\\\,\\\\mathrm{d}x. \\\\]': 0.0,\n",
       " 'At what points does the function \\\\( g(x) = \\\\sqrt[3]{x^2} \\\\) have no derivatives?': 1.0,\n",
       " 'Is there a slick technique to integrate $\\\\int_{0}^{\\\\infty}\\\\frac{8\\\\pi}{\\\\lambda^4}\\\\frac{1}{e^{\\\\frac{hc}{\\\\lambda k_{b}T}}-1}\\\\,d\\\\lambda$ without using complex analysis?': 0.0,\n",
       " 'Find the order of the group \\\\(\\\\operatorname{Aut}\\\\left(\\\\mathbb Z_7 \\\\times \\\\operatorname{Aut}\\\\left(\\\\operatorname{Aut} \\\\mathbb Z_7\\\\right)\\\\right)\\\\).': 0.75,\n",
       " 'Solve the differential equation $\\\\frac{d^2}{dx^2}\\\\left(y\\\\right)+2\\\\frac{d}{dx}\\\\left(y\\\\right) +y = x\\\\cos(x)$.': 0.0,\n",
       " 'Find a homomorphism \\\\( T: \\\\mathbb{C}^* \\\\rightarrow \\\\mathbb{R} \\\\) such that \\\\( \\\\text{Ker}(T) = \\\\{ z \\\\in \\\\mathbb{C}^* \\\\mid |z| = 1 \\\\} \\\\).': 0.0,\n",
       " 'How do you determine the upper and lower bounds for the integral when finding the area enclosed by the graph of \\\\( r = 4 + 4\\\\sin(\\\\theta) \\\\) using the integral \\\\( \\\\frac{1}{2} \\\\int r^2 \\\\, d\\\\theta \\\\)?': 0.0,\n",
       " 'Evaluate the integral $\\\\int e^{\\\\tan x}\\\\cdot \\\\left(\\\\sin x-\\\\sec x \\\\right)dx$.': 0.0,\n",
       " 'Let \\\\( S = \\\\sum_{n=8}^{\\\\infty} \\\\frac{1}{n^3} \\\\). Evaluate \\\\( \\\\left\\\\lfloor \\\\frac{1}{S} \\\\right\\\\rfloor \\\\).': 0.6875,\n",
       " 'Evaluate the limit $\\\\lim_{x\\\\to\\\\infty} \\\\sum_{n=1}^{x} \\\\left(\\\\frac{7}{x}\\\\right) \\\\left(2 + \\\\frac{14n}{x} + \\\\sqrt{49 - \\\\left(\\\\frac{7n}{x}\\\\right)^2}\\\\right)$.': 0.0,\n",
       " 'Evaluate the integral $\\\\int^{4}_{0}\\\\frac{\\\\ln(x)}{\\\\sqrt{4x-x^2}}dx$.': 0.6875,\n",
       " 'Let $\\\\theta = z \\\\, dx \\\\wedge dy + y \\\\, dx \\\\wedge dz + x \\\\, dy \\\\wedge dz \\\\in \\\\Omega^2(\\\\mathbb{R}^3)$ and $X = y \\\\frac{\\\\partial}{\\\\partial x} + x \\\\frac{\\\\partial}{\\\\partial y} + z \\\\frac{\\\\partial}{\\\\partial z} \\\\in \\\\mathcal{X}(\\\\mathbb{R}^3)$. Find $\\\\mathcal{L}_X d\\\\theta$.': 0.0,\n",
       " 'Calculate the sum \\\\( \\\\sum_{k=1}^{n} k^2 \\\\binom{n}{k}^2 \\\\).': 0.0,\n",
       " 'Let $\\\\sum_{n=1}^{\\\\infty}a_n$ be a convergent series of positive terms (so $a_i > 0$ for all $i$) and set $b_n = 1/(na_n^2)$ for $n \\\\ge 1$. Determine whether the series $\\\\sum_{n=1}^{\\\\infty} \\\\frac{n}{b_1 + b_2 + \\\\cdots + b_n}$ is convergent.': 0.0,\n",
       " 'In how many ways can 9 people stand in a line such that there are exactly 3 people between two specific individuals, X and Y?': 0.4375,\n",
       " \"Consider a polynomial \\\\( f(x) = x^{2012} + a_{2011}x^{2011} + \\\\dots + a_1x + a_0 \\\\). Albert and Homer take turns assigning real values to the coefficients \\\\( a_0, a_1, \\\\dots, a_{2011} \\\\). Albert starts. Homer's goal is to make \\\\( f(x) \\\\) divisible by \\\\( m(x) = x - 2012 \\\\), and Albert's goal is to prevent this. Which player has a winning strategy?\": 0.0,\n",
       " 'Calculate the limit $\\\\lim_{n \\\\to \\\\infty }\\\\sum_{k=2}^{n}\\\\arctan \\\\frac{2}{\\\\left ( k-1 \\\\right )^{2}}$.': 0.0,\n",
       " 'Evaluate the indefinite integral $\\\\int \\\\sqrt{\\\\dfrac{x^2+1}{x^8}}\\\\;dx$.': 0.0,\n",
       " \"Parents claim that every additional hour in school improves the SAT math score by 2 points. You are given data for 96 students from different schools: 48 students spend 40 hours per week in the classroom with an average SAT math score of 515, and 48 students spend 45 hours per week in the classroom with an average SAT math score of 525. The sample standard deviation for the 96 students is 23. Is the parents' claim justified?\": 0.0,\n",
       " 'Find all \\\\( x \\\\) in \\\\( \\\\mathbb{R} \\\\) such that the limit\\n\\\\[ \\\\lim_{n \\\\to \\\\infty} f_n(x) = \\\\lim_{n \\\\to \\\\infty} \\\\sum_{k=1}^{n} |\\\\sin (\\\\pi k! x)|^{1/n} \\\\]\\nis bounded.': 0.0,\n",
       " 'Find the limit: $\\\\lim_{x\\\\to 1} \\\\left(\\\\frac{m}{1-x^m}-\\\\frac{n}{1-x^n}\\\\right)$': 0.0,\n",
       " 'Find the dimension of the subspace of \\\\( P_3 \\\\) spanned by the vectors \\\\( x^2, \\\\ x^2-x-1, \\\\ x+1 \\\\).': 0.625,\n",
       " 'Find the zero vector for the vector space \\\\( E \\\\), where \\\\( E \\\\) is the set of linear equations with real coefficients in the variables \\\\( x \\\\) and \\\\( y \\\\).': 0.0,\n",
       " 'Evaluate the integral $\\\\displaystyle\\\\int^{2}_{0}\\\\frac{x^4+1}{(x^4+2)^{\\\\frac{3}{4}}}dx$.': 0.0,\n",
       " 'Let \\\\( f \\\\) be an odd continuous function defined on the set of real numbers such that \\\\( f(p) = (-1)^p \\\\) for any prime number \\\\( p \\\\). Find the minimum number of roots of the equation \\\\( f(x) = 0 \\\\).': 0.5,\n",
       " 'A sequence $\\\\{a_n\\\\}$ is defined by $a_n = \\\\int_0^1 x^3(1-x)^n \\\\, dx$ for $n = 1, 2, 3, \\\\ldots$. Find the constant number $c$ such that $\\\\sum_{n=1}^{\\\\infty} (n+c)(a_n - a_{n+1}) = \\\\frac{1}{3}$.': 0.3125,\n",
       " \"Find the general or particular solution to the differential equation \\\\( x' + 2x = 4t^2 \\\\) using Laplace transforms.\": 0.0,\n",
       " 'Compute the limit:\\n\\\\[\\n\\\\lim_{n\\\\to\\\\infty}\\\\left(\\\\frac{1+\\\\sqrt[n]{n}}{2}\\\\right)^{\\\\frac{n}{\\\\ln n}}\\n\\\\]': 0.0,\n",
       " 'Obtain an approximation for the probability that \\\\( X_{36} \\\\leq e^{-24} \\\\).': 0.0,\n",
       " 'In the case where \\\\( s = \\\\frac{d}{2} - \\\\frac{a+b+c}{4} \\\\neq 0 \\\\), classify the unique point satisfying:\\n  \\\\[\\n  x+y=s+a, \\\\quad y+z=s+c, \\\\quad x+z=s+b.\\n  \\\\]\\n  The Hessian criteria gives a local minimum for this point.': 0.0,\n",
       " 'For \\\\(0 < x < 1\\\\), calculate the value of \\n\\\\[ \\\\sum_{n=1}^\\\\infty \\\\left(1 + \\\\frac{1}{2} + \\\\frac{1}{3} + \\\\cdots + \\\\frac{1}{n}\\\\right)x^n \\\\]': 0.0,\n",
       " 'Find the potential function for the vector field \\\\( \\\\mathbf{F} = 2x \\\\mathbf{i} - 4y \\\\mathbf{j} + (2z - 3) \\\\mathbf{k} \\\\).': 0.0,\n",
       " \"Evaluate the limit \\\\( \\\\lim_{x \\\\rightarrow 0} \\\\frac{x - \\\\sin(x)}{x - \\\\tan(x)} \\\\) without using L'Hôpital's rule or Taylor series.\": 1.0,\n",
       " 'Evaluate the integral $\\\\int_{1}^{2}\\\\{ x^2 \\\\}dx$, where $\\\\{ x^2 \\\\}$ denotes the fractional part of $x^2$.': 0.0,\n",
       " 'Evaluate the integral \\\\( \\\\int_0^{\\\\pi^2/4} \\\\frac{dx}{1+\\\\sin\\\\sqrt{x} +\\\\cos\\\\sqrt{x}} \\\\).': 0.0,\n",
       " \"Given a twice differentiable function \\\\( f : (0, +\\\\infty) \\\\rightarrow \\\\mathbb{R} \\\\) such that \\\\(\\\\sup_{x \\\\in (0, +\\\\infty)} |f(x)| \\\\leq 1\\\\) and \\\\(\\\\sup_{x \\\\in (0, +\\\\infty)} |f''(x)| \\\\leq 1\\\\), what is the greatest value that \\\\(\\\\sup_{x \\\\in (0, +\\\\infty)} |f'(x)|\\\\) can take?\": 0.8125,\n",
       " 'Let $\\\\tau = \\\\{G \\\\subset \\\\mathbb{N} \\\\mid f^{-1}(G) \\\\in \\\\tau_c\\\\}$ for the cofinite topology $\\\\tau_c$ on $\\\\mathbb{N}$, where $W = \\\\{(m,n) \\\\in \\\\mathbb{N} \\\\times \\\\mathbb{N} \\\\mid m \\\\ge 12 \\\\text{ or } n \\\\le 6\\\\}$ and the function $f: W \\\\to \\\\mathbb{N}$ defined by $f((m,n)) = m + n$. Determine $\\\\tau$.': 0.0,\n",
       " \"Given the function $R$ satisfying the conditions $R(0) = 0$, $R'(t) > 0$ for $t > 0$, and $R''(t) < 0$ for $t > 0$, and the function $H(t) = \\\\frac{R'(t)}{R(t)} = \\\\frac{a}{t}$, where $a$ is a constant, derive an expression for $R(t)$. Determine the range of values of $a$ that is consistent with the three conditions (*).\": 0.0}"
      ]
     },
     "execution_count": 29,
     "metadata": {},
     "output_type": "execute_result"
    }
   ],
   "execution_count": 29
  },
  {
   "metadata": {},
   "cell_type": "code",
   "outputs": [],
   "execution_count": null,
   "source": "",
   "id": "50294acef55bb1ca"
  }
 ],
 "metadata": {
  "kernelspec": {
   "display_name": "Python 3",
   "language": "python",
   "name": "python3"
  },
  "language_info": {
   "codemirror_mode": {
    "name": "ipython",
    "version": 2
   },
   "file_extension": ".py",
   "mimetype": "text/x-python",
   "name": "python",
   "nbconvert_exporter": "python",
   "pygments_lexer": "ipython2",
   "version": "2.7.6"
  }
 },
 "nbformat": 4,
 "nbformat_minor": 5
}
