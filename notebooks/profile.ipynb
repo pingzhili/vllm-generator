{
 "cells": [
  {
   "cell_type": "code",
   "id": "initial_id",
   "metadata": {
    "collapsed": true,
    "ExecuteTime": {
     "end_time": "2025-07-30T15:31:59.028273Z",
     "start_time": "2025-07-30T15:31:57.857063Z"
    }
   },
   "source": [
    "from math_verify import parse, verify\n",
    "import re\n",
    "import pandas as pd\n",
    "import torch\n",
    "import json"
   ],
   "outputs": [],
   "execution_count": 1
  },
  {
   "metadata": {
    "ExecuteTime": {
     "end_time": "2025-07-30T15:32:06.551379Z",
     "start_time": "2025-07-30T15:32:06.419965Z"
    }
   },
   "cell_type": "code",
   "source": [
    "df = pd.read_parquet(\"../../open-math-reasoning/sample_c7_300_results_repeat_16.parquet\")\n",
    "prompt_to_embed = torch.load(\"../../open-math-reasoning/sample_c7_300_problem_last_hidden_states.pt\")\n",
    "problem_to_all_layer_embed = {key.split(\"<|im_start|>user\\n\")[-1].split(\"<|im_end|>\\n<|im_start|>assistant\\n\")[0]: value for key, value in prompt_to_embed.items()}"
   ],
   "id": "19ba17233c9a5803",
   "outputs": [],
   "execution_count": 2
  },
  {
   "metadata": {
    "ExecuteTime": {
     "end_time": "2025-07-30T17:48:05.333282Z",
     "start_time": "2025-07-30T17:48:05.330093Z"
    }
   },
   "cell_type": "code",
   "source": [
    "min_len = 1000000\n",
    "short_prompt = None\n",
    "for prompt in prompt_to_embed.keys():\n",
    "    if len(prompt) < min_len:\n",
    "        short_prompt = prompt\n",
    "        min_len = len(prompt)"
   ],
   "id": "a048b8d69a99287b",
   "outputs": [],
   "execution_count": 56
  },
  {
   "metadata": {
    "ExecuteTime": {
     "end_time": "2025-07-30T17:48:08.834107Z",
     "start_time": "2025-07-30T17:48:08.830284Z"
    }
   },
   "cell_type": "code",
   "source": "short_prompt",
   "id": "9a895b87c47c10d1",
   "outputs": [
    {
     "data": {
      "text/plain": [
       "'<|im_start|>user\\nFind an approximate value of $(0.99 e^{0.02})^{8}$.<|im_end|>\\n<|im_start|>assistant\\n<think>\\n\\n'"
      ]
     },
     "execution_count": 57,
     "metadata": {},
     "output_type": "execute_result"
    }
   ],
   "execution_count": 57
  },
  {
   "metadata": {
    "ExecuteTime": {
     "end_time": "2025-07-30T15:32:07.502013Z",
     "start_time": "2025-07-30T15:32:07.498319Z"
    }
   },
   "cell_type": "code",
   "source": [
    "layer = -1\n",
    "problem_to_embed = {key: value[layer] for key, value in problem_to_all_layer_embed.items()}"
   ],
   "id": "79a7ffd8dae62c64",
   "outputs": [],
   "execution_count": 3
  },
  {
   "metadata": {
    "ExecuteTime": {
     "end_time": "2025-07-30T15:32:09.156376Z",
     "start_time": "2025-07-30T15:32:09.152793Z"
    }
   },
   "cell_type": "code",
   "source": [
    "def extract_last_boxed_greedy(text):\n",
    "    if not text:\n",
    "        return None\n",
    "\n",
    "    positions = [m.start() for m in re.finditer(r'\\\\boxed\\{', text)]\n",
    "    if not positions:\n",
    "        return None\n",
    "\n",
    "    last_pos = positions[-1]\n",
    "    rest_of_text = text[last_pos:]\n",
    "    match = re.match(r'\\\\boxed\\{((?:[^{}]|\\{[^{}]*\\})*)\\}', rest_of_text)\n",
    "    if match:\n",
    "        return match.group(1)\n",
    "\n",
    "    return None"
   ],
   "id": "a46c2671ca34e9de",
   "outputs": [],
   "execution_count": 4
  },
  {
   "metadata": {
    "ExecuteTime": {
     "end_time": "2025-07-30T15:32:23.955507Z",
     "start_time": "2025-07-30T15:32:10.264895Z"
    }
   },
   "cell_type": "code",
   "source": [
    "problem_to_pass_rate = {}\n",
    "for problem in df.problem.unique():\n",
    "    df_problem = df[df.problem == problem]\n",
    "    gold = parse(df_problem.expected_answer.tolist()[0])\n",
    "    num_pass = 0\n",
    "    num_total = 0\n",
    "    for response in df_problem.response:\n",
    "        num_total += 1\n",
    "        if verify(gold, parse(extract_last_boxed_greedy(response))):\n",
    "            num_pass += 1\n",
    "    problem_to_pass_rate[problem] = num_pass / num_total"
   ],
   "id": "b737e30a3b0c32a2",
   "outputs": [],
   "execution_count": 5
  },
  {
   "metadata": {
    "ExecuteTime": {
     "end_time": "2025-07-30T16:43:33.999981Z",
     "start_time": "2025-07-30T16:43:33.198891Z"
    }
   },
   "cell_type": "code",
   "source": [
    "import matplotlib.pyplot as plt\n",
    "from sklearn.manifold import TSNE\n",
    "\n",
    "# 模拟一些数据\n",
    "X = torch.stack([problem_to_embed[problem] for problem, pass_rate in problem_to_pass_rate.items() if pass_rate>0])\n",
    "y = torch.tensor([problem_to_pass_rate[problem]  for problem, pass_rate in problem_to_pass_rate.items() if pass_rate>0])\n",
    "\n",
    "# t-SNE 降维\n",
    "tsne = TSNE(n_components=2, perplexity=30, learning_rate=200, random_state=666, max_iter=3000)\n",
    "X_2d = tsne.fit_transform(X)\n",
    "\n",
    "plt.figure(figsize=(3, 2))\n",
    "plt.tight_layout(pad=0)\n",
    "sc = plt.scatter(X_2d[:, 0], X_2d[:, 1], c=y, cmap='inferno', s=20, alpha=0.9)\n",
    "plt.colorbar(sc, label=\"Self-consistency\")\n",
    "plt.title(\"\"\"\"\\\\n\\\\n\" hidden states (t-SNE)\"\"\")\n",
    "# remove tick labels\n",
    "plt.xticks([])\n",
    "plt.yticks([])\n",
    "plt.show()"
   ],
   "id": "50294acef55bb1ca",
   "outputs": [
    {
     "data": {
      "text/plain": [
       "<Figure size 300x200 with 2 Axes>"
      ],
      "image/png": "[encoded data removed]"
     },
     "metadata": {},
     "output_type": "display_data"
    }
   ],
   "execution_count": 54
  },
  {
   "metadata": {
    "ExecuteTime": {
     "end_time": "2025-07-30T14:56:22.891378Z",
     "start_time": "2025-07-30T14:56:22.888090Z"
    }
   },
   "cell_type": "code",
   "source": "problem_to_embed[\"Find a basis for the space of polynomials \\\\( p(x) \\\\) of degree less than or equal to 3.\"].shape",
   "id": "3e8fcfa10fc5866c",
   "outputs": [
    {
     "data": {
      "text/plain": [
       "torch.Size([4096])"
      ]
     },
     "execution_count": 25,
     "metadata": {},
     "output_type": "execute_result"
    }
   ],
   "execution_count": 25
  },
  {
   "metadata": {
    "ExecuteTime": {
     "end_time": "2025-07-30T15:33:51.231803Z",
     "start_time": "2025-07-30T15:33:51.228722Z"
    }
   },
   "cell_type": "code",
   "source": "X.shape",
   "id": "17a9a56d1af940fd",
   "outputs": [
    {
     "data": {
      "text/plain": [
       "torch.Size([298, 4096])"
      ]
     },
     "execution_count": 11,
     "metadata": {},
     "output_type": "execute_result"
    }
   ],
   "execution_count": 11
  },
  {
   "metadata": {
    "ExecuteTime": {
     "end_time": "2025-07-30T15:50:09.251585Z",
     "start_time": "2025-07-30T15:50:09.248788Z"
    }
   },
   "cell_type": "code",
   "source": "zero_pass_list = [key for key, value in problem_to_pass_rate.items() if value == 0]",
   "id": "40c4c7dbb12733a4",
   "outputs": [],
   "execution_count": 26
  },
  {
   "metadata": {
    "ExecuteTime": {
     "end_time": "2025-07-30T15:51:21.990899Z",
     "start_time": "2025-07-30T15:51:21.979424Z"
    }
   },
   "cell_type": "code",
   "source": "df[df.problem == zero_pass_list[1]]",
   "id": "4a3807046a027bfc",
   "outputs": [
    {
     "data": {
      "text/plain": [
       "                     expected_answer          problem_type  \\\n",
       "16  \\((-1)^n \\cdot n \\cdot 2^{n-1}\\)  has_answer_extracted   \n",
       "17  \\((-1)^n \\cdot n \\cdot 2^{n-1}\\)  has_answer_extracted   \n",
       "18  \\((-1)^n \\cdot n \\cdot 2^{n-1}\\)  has_answer_extracted   \n",
       "19  \\((-1)^n \\cdot n \\cdot 2^{n-1}\\)  has_answer_extracted   \n",
       "20  \\((-1)^n \\cdot n \\cdot 2^{n-1}\\)  has_answer_extracted   \n",
       "21  \\((-1)^n \\cdot n \\cdot 2^{n-1}\\)  has_answer_extracted   \n",
       "22  \\((-1)^n \\cdot n \\cdot 2^{n-1}\\)  has_answer_extracted   \n",
       "23  \\((-1)^n \\cdot n \\cdot 2^{n-1}\\)  has_answer_extracted   \n",
       "24  \\((-1)^n \\cdot n \\cdot 2^{n-1}\\)  has_answer_extracted   \n",
       "25  \\((-1)^n \\cdot n \\cdot 2^{n-1}\\)  has_answer_extracted   \n",
       "26  \\((-1)^n \\cdot n \\cdot 2^{n-1}\\)  has_answer_extracted   \n",
       "27  \\((-1)^n \\cdot n \\cdot 2^{n-1}\\)  has_answer_extracted   \n",
       "28  \\((-1)^n \\cdot n \\cdot 2^{n-1}\\)  has_answer_extracted   \n",
       "29  \\((-1)^n \\cdot n \\cdot 2^{n-1}\\)  has_answer_extracted   \n",
       "30  \\((-1)^n \\cdot n \\cdot 2^{n-1}\\)  has_answer_extracted   \n",
       "31  \\((-1)^n \\cdot n \\cdot 2^{n-1}\\)  has_answer_extracted   \n",
       "\n",
       "          problem_source generation_model pass_rate_72b_tir  \\\n",
       "16  aops_c7_college_math      DeepSeek-R1              0.25   \n",
       "17  aops_c7_college_math      DeepSeek-R1              0.25   \n",
       "18  aops_c7_college_math      DeepSeek-R1              0.25   \n",
       "19  aops_c7_college_math      DeepSeek-R1              0.25   \n",
       "20  aops_c7_college_math      DeepSeek-R1              0.25   \n",
       "21  aops_c7_college_math      DeepSeek-R1              0.25   \n",
       "22  aops_c7_college_math      DeepSeek-R1              0.25   \n",
       "23  aops_c7_college_math      DeepSeek-R1              0.25   \n",
       "24  aops_c7_college_math      DeepSeek-R1              0.25   \n",
       "25  aops_c7_college_math      DeepSeek-R1              0.25   \n",
       "26  aops_c7_college_math      DeepSeek-R1              0.25   \n",
       "27  aops_c7_college_math      DeepSeek-R1              0.25   \n",
       "28  aops_c7_college_math      DeepSeek-R1              0.25   \n",
       "29  aops_c7_college_math      DeepSeek-R1              0.25   \n",
       "30  aops_c7_college_math      DeepSeek-R1              0.25   \n",
       "31  aops_c7_college_math      DeepSeek-R1              0.25   \n",
       "\n",
       "                                              problem  \\\n",
       "16  Calculate the determinant of the matrix \\(\\beg...   \n",
       "17  Calculate the determinant of the matrix \\(\\beg...   \n",
       "18  Calculate the determinant of the matrix \\(\\beg...   \n",
       "19  Calculate the determinant of the matrix \\(\\beg...   \n",
       "20  Calculate the determinant of the matrix \\(\\beg...   \n",
       "21  Calculate the determinant of the matrix \\(\\beg...   \n",
       "22  Calculate the determinant of the matrix \\(\\beg...   \n",
       "23  Calculate the determinant of the matrix \\(\\beg...   \n",
       "24  Calculate the determinant of the matrix \\(\\beg...   \n",
       "25  Calculate the determinant of the matrix \\(\\beg...   \n",
       "26  Calculate the determinant of the matrix \\(\\beg...   \n",
       "27  Calculate the determinant of the matrix \\(\\beg...   \n",
       "28  Calculate the determinant of the matrix \\(\\beg...   \n",
       "29  Calculate the determinant of the matrix \\(\\beg...   \n",
       "30  Calculate the determinant of the matrix \\(\\beg...   \n",
       "31  Calculate the determinant of the matrix \\(\\beg...   \n",
       "\n",
       "                                   generated_solution inference_mode  \\\n",
       "16  <think>\\nAlright, let's see. I have to find th...            cot   \n",
       "17  <think>\\nAlright, let's see. I have to find th...            cot   \n",
       "18  <think>\\nAlright, let's see. I have to find th...            cot   \n",
       "19  <think>\\nAlright, let's see. I have to find th...            cot   \n",
       "20  <think>\\nAlright, let's see. I have to find th...            cot   \n",
       "21  <think>\\nAlright, let's see. I have to find th...            cot   \n",
       "22  <think>\\nAlright, let's see. I have to find th...            cot   \n",
       "23  <think>\\nAlright, let's see. I have to find th...            cot   \n",
       "24  <think>\\nAlright, let's see. I have to find th...            cot   \n",
       "25  <think>\\nAlright, let's see. I have to find th...            cot   \n",
       "26  <think>\\nAlright, let's see. I have to find th...            cot   \n",
       "27  <think>\\nAlright, let's see. I have to find th...            cot   \n",
       "28  <think>\\nAlright, let's see. I have to find th...            cot   \n",
       "29  <think>\\nAlright, let's see. I have to find th...            cot   \n",
       "30  <think>\\nAlright, let's see. I have to find th...            cot   \n",
       "31  <think>\\nAlright, let's see. I have to find th...            cot   \n",
       "\n",
       "    used_in_kaggle                                           response  \\\n",
       "16            True  We are given a symmetric matrix $ A $ of size ...   \n",
       "17            True  We are asked to compute the **determinant** of...   \n",
       "18            True  We are given a **symmetric tridiagonal matrix*...   \n",
       "19            True  We are given a symmetric matrix $ A $ of size ...   \n",
       "20            True  We are asked to compute the **determinant** of...   \n",
       "21            True  We are given a **symmetric tridiagonal matrix*...   \n",
       "22            True  We are given a symmetric matrix of size $ (n+1...   \n",
       "23            True  We are asked to compute the **determinant** of...   \n",
       "24            True  We are given a symmetric matrix of size $(n+1)...   \n",
       "25            True  We are given a square matrix of size $ n+1 \\ti...   \n",
       "26            True  We are given a square matrix of size $ (n+1) \\...   \n",
       "27            True  We are given a symmetric matrix of size $ (n+1...   \n",
       "28            True  We are given a **symmetric Toeplitz matrix** o...   \n",
       "29            True  We are given a symmetric matrix $ A $ of size ...   \n",
       "30            True  We are given a **symmetric tridiagonal matrix*...   \n",
       "31            True  We are given a matrix of size $ (n+1) \\times (...   \n",
       "\n",
       "    sample_idx  \n",
       "16           0  \n",
       "17           1  \n",
       "18           2  \n",
       "19           3  \n",
       "20           4  \n",
       "21           5  \n",
       "22           6  \n",
       "23           7  \n",
       "24           8  \n",
       "25           9  \n",
       "26          10  \n",
       "27          11  \n",
       "28          12  \n",
       "29          13  \n",
       "30          14  \n",
       "31          15  "
      ],
      "text/html": [
       "<div>\n",
       "<style scoped>\n",
       "    .dataframe tbody tr th:only-of-type {\n",
       "        vertical-align: middle;\n",
       "    }\n",
       "\n",
       "    .dataframe tbody tr th {\n",
       "        vertical-align: top;\n",
       "    }\n",
       "\n",
       "    .dataframe thead th {\n",
       "        text-align: right;\n",
       "    }\n",
       "</style>\n",
       "<table border=\"1\" class=\"dataframe\">\n",
       "  <thead>\n",
       "    <tr style=\"text-align: right;\">\n",
       "      <th></th>\n",
       "      <th>expected_answer</th>\n",
       "      <th>problem_type</th>\n",
       "      <th>problem_source</th>\n",
       "      <th>generation_model</th>\n",
       "      <th>pass_rate_72b_tir</th>\n",
       "      <th>problem</th>\n",
       "      <th>generated_solution</th>\n",
       "      <th>inference_mode</th>\n",
       "      <th>used_in_kaggle</th>\n",
       "      <th>response</th>\n",
       "      <th>sample_idx</th>\n",
       "    </tr>\n",
       "  </thead>\n",
       "  <tbody>\n",
       "    <tr>\n",
       "      <th>16</th>\n",
       "      <td>\\((-1)^n \\cdot n \\cdot 2^{n-1}\\)</td>\n",
       "      <td>has_answer_extracted</td>\n",
       "      <td>aops_c7_college_math</td>\n",
       "      <td>DeepSeek-R1</td>\n",
       "      <td>0.25</td>\n",
       "      <td>Calculate the determinant of the matrix \\(\\beg...</td>\n",
       "      <td>&lt;think&gt;\\nAlright, let's see. I have to find th...</td>\n",
       "      <td>cot</td>\n",
       "      <td>True</td>\n",
       "      <td>We are given a symmetric matrix $ A $ of size ...</td>\n",
       "      <td>0</td>\n",
       "    </tr>\n",
       "    <tr>\n",
       "      <th>17</th>\n",
       "      <td>\\((-1)^n \\cdot n \\cdot 2^{n-1}\\)</td>\n",
       "      <td>has_answer_extracted</td>\n",
       "      <td>aops_c7_college_math</td>\n",
       "      <td>DeepSeek-R1</td>\n",
       "      <td>0.25</td>\n",
       "      <td>Calculate the determinant of the matrix \\(\\beg...</td>\n",
       "      <td>&lt;think&gt;\\nAlright, let's see. I have to find th...</td>\n",
       "      <td>cot</td>\n",
       "      <td>True</td>\n",
       "      <td>We are asked to compute the **determinant** of...</td>\n",
       "      <td>1</td>\n",
       "    </tr>\n",
       "    <tr>\n",
       "      <th>18</th>\n",
       "      <td>\\((-1)^n \\cdot n \\cdot 2^{n-1}\\)</td>\n",
       "      <td>has_answer_extracted</td>\n",
       "      <td>aops_c7_college_math</td>\n",
       "      <td>DeepSeek-R1</td>\n",
       "      <td>0.25</td>\n",
       "      <td>Calculate the determinant of the matrix \\(\\beg...</td>\n",
       "      <td>&lt;think&gt;\\nAlright, let's see. I have to find th...</td>\n",
       "      <td>cot</td>\n",
       "      <td>True</td>\n",
       "      <td>We are given a **symmetric tridiagonal matrix*...</td>\n",
       "      <td>2</td>\n",
       "    </tr>\n",
       "    <tr>\n",
       "      <th>19</th>\n",
       "      <td>\\((-1)^n \\cdot n \\cdot 2^{n-1}\\)</td>\n",
       "      <td>has_answer_extracted</td>\n",
       "      <td>aops_c7_college_math</td>\n",
       "      <td>DeepSeek-R1</td>\n",
       "      <td>0.25</td>\n",
       "      <td>Calculate the determinant of the matrix \\(\\beg...</td>\n",
       "      <td>&lt;think&gt;\\nAlright, let's see. I have to find th...</td>\n",
       "      <td>cot</td>\n",
       "      <td>True</td>\n",
       "      <td>We are given a symmetric matrix $ A $ of size ...</td>\n",
       "      <td>3</td>\n",
       "    </tr>\n",
       "    <tr>\n",
       "      <th>20</th>\n",
       "      <td>\\((-1)^n \\cdot n \\cdot 2^{n-1}\\)</td>\n",
       "      <td>has_answer_extracted</td>\n",
       "      <td>aops_c7_college_math</td>\n",
       "      <td>DeepSeek-R1</td>\n",
       "      <td>0.25</td>\n",
       "      <td>Calculate the determinant of the matrix \\(\\beg...</td>\n",
       "      <td>&lt;think&gt;\\nAlright, let's see. I have to find th...</td>\n",
       "      <td>cot</td>\n",
       "      <td>True</td>\n",
       "      <td>We are asked to compute the **determinant** of...</td>\n",
       "      <td>4</td>\n",
       "    </tr>\n",
       "    <tr>\n",
       "      <th>21</th>\n",
       "      <td>\\((-1)^n \\cdot n \\cdot 2^{n-1}\\)</td>\n",
       "      <td>has_answer_extracted</td>\n",
       "      <td>aops_c7_college_math</td>\n",
       "      <td>DeepSeek-R1</td>\n",
       "      <td>0.25</td>\n",
       "      <td>Calculate the determinant of the matrix \\(\\beg...</td>\n",
       "      <td>&lt;think&gt;\\nAlright, let's see. I have to find th...</td>\n",
       "      <td>cot</td>\n",
       "      <td>True</td>\n",
       "      <td>We are given a **symmetric tridiagonal matrix*...</td>\n",
       "      <td>5</td>\n",
       "    </tr>\n",
       "    <tr>\n",
       "      <th>22</th>\n",
       "      <td>\\((-1)^n \\cdot n \\cdot 2^{n-1}\\)</td>\n",
       "      <td>has_answer_extracted</td>\n",
       "      <td>aops_c7_college_math</td>\n",
       "      <td>DeepSeek-R1</td>\n",
       "      <td>0.25</td>\n",
       "      <td>Calculate the determinant of the matrix \\(\\beg...</td>\n",
       "      <td>&lt;think&gt;\\nAlright, let's see. I have to find th...</td>\n",
       "      <td>cot</td>\n",
       "      <td>True</td>\n",
       "      <td>We are given a symmetric matrix of size $ (n+1...</td>\n",
       "      <td>6</td>\n",
       "    </tr>\n",
       "    <tr>\n",
       "      <th>23</th>\n",
       "      <td>\\((-1)^n \\cdot n \\cdot 2^{n-1}\\)</td>\n",
       "      <td>has_answer_extracted</td>\n",
       "      <td>aops_c7_college_math</td>\n",
       "      <td>DeepSeek-R1</td>\n",
       "      <td>0.25</td>\n",
       "      <td>Calculate the determinant of the matrix \\(\\beg...</td>\n",
       "      <td>&lt;think&gt;\\nAlright, let's see. I have to find th...</td>\n",
       "      <td>cot</td>\n",
       "      <td>True</td>\n",
       "      <td>We are asked to compute the **determinant** of...</td>\n",
       "      <td>7</td>\n",
       "    </tr>\n",
       "    <tr>\n",
       "      <th>24</th>\n",
       "      <td>\\((-1)^n \\cdot n \\cdot 2^{n-1}\\)</td>\n",
       "      <td>has_answer_extracted</td>\n",
       "      <td>aops_c7_college_math</td>\n",
       "      <td>DeepSeek-R1</td>\n",
       "      <td>0.25</td>\n",
       "      <td>Calculate the determinant of the matrix \\(\\beg...</td>\n",
       "      <td>&lt;think&gt;\\nAlright, let's see. I have to find th...</td>\n",
       "      <td>cot</td>\n",
       "      <td>True</td>\n",
       "      <td>We are given a symmetric matrix of size $(n+1)...</td>\n",
       "      <td>8</td>\n",
       "    </tr>\n",
       "    <tr>\n",
       "      <th>25</th>\n",
       "      <td>\\((-1)^n \\cdot n \\cdot 2^{n-1}\\)</td>\n",
       "      <td>has_answer_extracted</td>\n",
       "      <td>aops_c7_college_math</td>\n",
       "      <td>DeepSeek-R1</td>\n",
       "      <td>0.25</td>\n",
       "      <td>Calculate the determinant of the matrix \\(\\beg...</td>\n",
       "      <td>&lt;think&gt;\\nAlright, let's see. I have to find th...</td>\n",
       "      <td>cot</td>\n",
       "      <td>True</td>\n",
       "      <td>We are given a square matrix of size $ n+1 \\ti...</td>\n",
       "      <td>9</td>\n",
       "    </tr>\n",
       "    <tr>\n",
       "      <th>26</th>\n",
       "      <td>\\((-1)^n \\cdot n \\cdot 2^{n-1}\\)</td>\n",
       "      <td>has_answer_extracted</td>\n",
       "      <td>aops_c7_college_math</td>\n",
       "      <td>DeepSeek-R1</td>\n",
       "      <td>0.25</td>\n",
       "      <td>Calculate the determinant of the matrix \\(\\beg...</td>\n",
       "      <td>&lt;think&gt;\\nAlright, let's see. I have to find th...</td>\n",
       "      <td>cot</td>\n",
       "      <td>True</td>\n",
       "      <td>We are given a square matrix of size $ (n+1) \\...</td>\n",
       "      <td>10</td>\n",
       "    </tr>\n",
       "    <tr>\n",
       "      <th>27</th>\n",
       "      <td>\\((-1)^n \\cdot n \\cdot 2^{n-1}\\)</td>\n",
       "      <td>has_answer_extracted</td>\n",
       "      <td>aops_c7_college_math</td>\n",
       "      <td>DeepSeek-R1</td>\n",
       "      <td>0.25</td>\n",
       "      <td>Calculate the determinant of the matrix \\(\\beg...</td>\n",
       "      <td>&lt;think&gt;\\nAlright, let's see. I have to find th...</td>\n",
       "      <td>cot</td>\n",
       "      <td>True</td>\n",
       "      <td>We are given a symmetric matrix of size $ (n+1...</td>\n",
       "      <td>11</td>\n",
       "    </tr>\n",
       "    <tr>\n",
       "      <th>28</th>\n",
       "      <td>\\((-1)^n \\cdot n \\cdot 2^{n-1}\\)</td>\n",
       "      <td>has_answer_extracted</td>\n",
       "      <td>aops_c7_college_math</td>\n",
       "      <td>DeepSeek-R1</td>\n",
       "      <td>0.25</td>\n",
       "      <td>Calculate the determinant of the matrix \\(\\beg...</td>\n",
       "      <td>&lt;think&gt;\\nAlright, let's see. I have to find th...</td>\n",
       "      <td>cot</td>\n",
       "      <td>True</td>\n",
       "      <td>We are given a **symmetric Toeplitz matrix** o...</td>\n",
       "      <td>12</td>\n",
       "    </tr>\n",
       "    <tr>\n",
       "      <th>29</th>\n",
       "      <td>\\((-1)^n \\cdot n \\cdot 2^{n-1}\\)</td>\n",
       "      <td>has_answer_extracted</td>\n",
       "      <td>aops_c7_college_math</td>\n",
       "      <td>DeepSeek-R1</td>\n",
       "      <td>0.25</td>\n",
       "      <td>Calculate the determinant of the matrix \\(\\beg...</td>\n",
       "      <td>&lt;think&gt;\\nAlright, let's see. I have to find th...</td>\n",
       "      <td>cot</td>\n",
       "      <td>True</td>\n",
       "      <td>We are given a symmetric matrix $ A $ of size ...</td>\n",
       "      <td>13</td>\n",
       "    </tr>\n",
       "    <tr>\n",
       "      <th>30</th>\n",
       "      <td>\\((-1)^n \\cdot n \\cdot 2^{n-1}\\)</td>\n",
       "      <td>has_answer_extracted</td>\n",
       "      <td>aops_c7_college_math</td>\n",
       "      <td>DeepSeek-R1</td>\n",
       "      <td>0.25</td>\n",
       "      <td>Calculate the determinant of the matrix \\(\\beg...</td>\n",
       "      <td>&lt;think&gt;\\nAlright, let's see. I have to find th...</td>\n",
       "      <td>cot</td>\n",
       "      <td>True</td>\n",
       "      <td>We are given a **symmetric tridiagonal matrix*...</td>\n",
       "      <td>14</td>\n",
       "    </tr>\n",
       "    <tr>\n",
       "      <th>31</th>\n",
       "      <td>\\((-1)^n \\cdot n \\cdot 2^{n-1}\\)</td>\n",
       "      <td>has_answer_extracted</td>\n",
       "      <td>aops_c7_college_math</td>\n",
       "      <td>DeepSeek-R1</td>\n",
       "      <td>0.25</td>\n",
       "      <td>Calculate the determinant of the matrix \\(\\beg...</td>\n",
       "      <td>&lt;think&gt;\\nAlright, let's see. I have to find th...</td>\n",
       "      <td>cot</td>\n",
       "      <td>True</td>\n",
       "      <td>We are given a matrix of size $ (n+1) \\times (...</td>\n",
       "      <td>15</td>\n",
       "    </tr>\n",
       "  </tbody>\n",
       "</table>\n",
       "</div>"
      ]
     },
     "execution_count": 29,
     "metadata": {},
     "output_type": "execute_result"
    }
   ],
   "execution_count": 29
  },
  {
   "metadata": {
    "ExecuteTime": {
     "end_time": "2025-07-30T15:54:31.182479Z",
     "start_time": "2025-07-30T15:54:31.176233Z"
    }
   },
   "cell_type": "code",
   "source": [
    "for i in range(16, 26):\n",
    "    print(extract_last_boxed_greedy(df[df.problem == zero_pass_list[1]].response[i]))"
   ],
   "id": "13ab0a641ce28003",
   "outputs": [
    {
     "name": "stdout",
     "output_type": "stream",
     "text": [
      "(-1)^{n(n+1)/2} \\cdot (n+1)^{n-1}\n",
      "(-1)^n \\cdot n!\n",
      "\\det(A) = (-1)^n \\cdot 2^n\n",
      "(-1)^n \\cdot n \\cdot 2^n\n",
      "(-1)^{n(n+1)/2}\n",
      "(-1)^n \\cdot n!\n",
      "(-1)^n \\cdot n!\n",
      "(-1)^n \\cdot 2^n \\cdot n!\n",
      "(-1)^n \\cdot n!\n",
      "(-1)^n \\cdot 2^n\n"
     ]
    }
   ],
   "execution_count": 36
  },
  {
   "metadata": {},
   "cell_type": "code",
   "outputs": [],
   "execution_count": null,
   "source": "",
   "id": "aca5d1fb37fb4103"
  }
 ],
 "metadata": {
  "kernelspec": {
   "display_name": "Python 3",
   "language": "python",
   "name": "python3"
  },
  "language_info": {
   "codemirror_mode": {
    "name": "ipython",
    "version": 2
   },
   "file_extension": ".py",
   "mimetype": "text/x-python",
   "name": "python",
   "nbconvert_exporter": "python",
   "pygments_lexer": "ipython2",
   "version": "2.7.6"
  }
 },
 "nbformat": 4,
 "nbformat_minor": 5
}
